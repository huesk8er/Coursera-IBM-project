{
 "cells": [
  {
   "cell_type": "markdown",
   "metadata": {},
   "source": [
    "# Data Science - IBM Coursera Capstone Project "
   ]
  },
  {
   "cell_type": "markdown",
   "metadata": {},
   "source": [
    "#### Author Name: Hue Dinh - Data Science Student"
   ]
  },
  {
   "cell_type": "markdown",
   "metadata": {},
   "source": [
    "# Car Accident Severity Analysis and Prediction with Logistic Regression"
   ]
  },
  {
   "cell_type": "markdown",
   "metadata": {},
   "source": [
    "### 1. Introduction"
   ]
  },
  {
   "cell_type": "markdown",
   "metadata": {},
   "source": [
    "#### Background:"
   ]
  },
  {
   "cell_type": "markdown",
   "metadata": {},
   "source": [
    "\n",
    "Cars accident is a crucial problem for all countries in the world. It annually makes over 26.000 people die or seriously injured in Great Britain alone (reported in 2018). It indeed brings along numerous social and personal consequences. Car accidents casualties are various, controllable and uncontrollable. Therefore, an accurate analysis prediction model is necessary to help drivers and lawmakers to have awareness in particular situations so that severity will be minimised. \n",
    "    \n",
    "This project will focus on analysing accident data - The record of car accidents in the UK from 2005 to 2015, which include contributing factors to severity. I will focus on factors that authorities can be aware of, so depends on the particular situation in daily life, they will have appropriate action to minimise the loss due to car accidents - People and Objects. \n",
    "    \n",
    "For example, authorities can look at weather conditions, day of the week, road conditions etc... at their local area to know the likely hood of severity car accidents can cause so that they will have better preparation on preventing that. Furthermore, this model can be used by drivers, so cautious will be raised in particular situations.\n",
    "    \n",
    "I will strongly avoid contributing factors due to the natural development of society, as the age of the driver, the gender of the driver, the engine capacity, or even the purpose of accidental trips. Because these things are out of control of authorities and even drivers. I will have a further explanation later on.\n"
   ]
  },
  {
   "cell_type": "markdown",
   "metadata": {},
   "source": [
    "#### About the Dataset "
   ]
  },
  {
   "cell_type": "markdown",
   "metadata": {},
   "source": [
    "\n",
    "Data set will be used in this analysis are Accidents and Vehicle from Road Safety Data, provided by UK government. \n",
    "They can be found __[HERE](https://www.kaggle.com/silicon99/dft-accident-data)__ and fully explained __[HERE](https://data.gov.uk/dataset/cb7ae6f0-4be6-4935-9277-47e5ce24a11f/road-safety-data)__ . They recored accidents and vehicles in those accidents, including acidental scenes, conditions at site, vehicle details, etc... \n"
   ]
  },
  {
   "cell_type": "markdown",
   "metadata": {},
   "source": [
    "### 2. Data acquisition"
   ]
  },
  {
   "cell_type": "code",
   "execution_count": 1,
   "metadata": {},
   "outputs": [],
   "source": [
    "# Importing neccessary libraries \n",
    "import numpy as np # linear algebra\n",
    "import pandas as pd # data processing, CSV file I/O (e.g. pd.read_csv)\n",
    "from datetime import datetime as dt\n",
    "import time\n",
    "import matplotlib.pyplot as plt\n",
    "from sklearn.model_selection import train_test_split as split\n",
    "from sklearn.metrics import confusion_matrix, classification_report, accuracy_score\n",
    "from sklearn.linear_model import LogisticRegression\n",
    "from sklearn.pipeline import Pipeline, FeatureUnion\n",
    "from sklearn.preprocessing import MinMaxScaler, FunctionTransformer, OneHotEncoder, KBinsDiscretizer, MaxAbsScaler\n",
    "from sklearn.feature_selection import VarianceThreshold\n",
    "from sklearn.ensemble import RandomForestClassifier\n",
    "from sklearn.impute import SimpleImputer\n",
    "import seaborn as sns\n",
    "sns.set()\n",
    "import math\n",
    "\n",
    "%matplotlib inline"
   ]
  },
  {
   "cell_type": "code",
   "execution_count": 2,
   "metadata": {},
   "outputs": [
    {
     "name": "stderr",
     "output_type": "stream",
     "text": [
      "IOPub data rate exceeded.\n",
      "The notebook server will temporarily stop sending output\n",
      "to the client in order to avoid crashing it.\n",
      "To change this limit, set the config variable\n",
      "`--NotebookApp.iopub_data_rate_limit`.\n",
      "\n",
      "Current values:\n",
      "NotebookApp.iopub_data_rate_limit=1000000.0 (bytes/sec)\n",
      "NotebookApp.rate_limit_window=3.0 (secs)\n",
      "\n"
     ]
    },
    {
     "name": "stdout",
     "output_type": "stream",
     "text": [
      "(3004425, 52)\n"
     ]
    },
    {
     "data": {
      "text/html": [
       "<div>\n",
       "<style scoped>\n",
       "    .dataframe tbody tr th:only-of-type {\n",
       "        vertical-align: middle;\n",
       "    }\n",
       "\n",
       "    .dataframe tbody tr th {\n",
       "        vertical-align: top;\n",
       "    }\n",
       "\n",
       "    .dataframe thead th {\n",
       "        text-align: right;\n",
       "    }\n",
       "</style>\n",
       "<table border=\"1\" class=\"dataframe\">\n",
       "  <thead>\n",
       "    <tr style=\"text-align: right;\">\n",
       "      <th></th>\n",
       "      <th>Vehicle_Reference</th>\n",
       "      <th>Vehicle_Type</th>\n",
       "      <th>Towing_and_Articulation</th>\n",
       "      <th>Vehicle_Manoeuvre</th>\n",
       "      <th>Vehicle_Location-Restricted_Lane</th>\n",
       "      <th>Junction_Location</th>\n",
       "      <th>Skidding_and_Overturning</th>\n",
       "      <th>Hit_Object_in_Carriageway</th>\n",
       "      <th>Vehicle_Leaving_Carriageway</th>\n",
       "      <th>Hit_Object_off_Carriageway</th>\n",
       "      <th>...</th>\n",
       "      <th>Pedestrian_Crossing-Human_Control</th>\n",
       "      <th>Pedestrian_Crossing-Physical_Facilities</th>\n",
       "      <th>Light_Conditions</th>\n",
       "      <th>Weather_Conditions</th>\n",
       "      <th>Road_Surface_Conditions</th>\n",
       "      <th>Special_Conditions_at_Site</th>\n",
       "      <th>Carriageway_Hazards</th>\n",
       "      <th>Urban_or_Rural_Area</th>\n",
       "      <th>Did_Police_Officer_Attend_Scene_of_Accident</th>\n",
       "      <th>LSOA_of_Accident_Location</th>\n",
       "    </tr>\n",
       "    <tr>\n",
       "      <th>Accident_Index</th>\n",
       "      <th></th>\n",
       "      <th></th>\n",
       "      <th></th>\n",
       "      <th></th>\n",
       "      <th></th>\n",
       "      <th></th>\n",
       "      <th></th>\n",
       "      <th></th>\n",
       "      <th></th>\n",
       "      <th></th>\n",
       "      <th></th>\n",
       "      <th></th>\n",
       "      <th></th>\n",
       "      <th></th>\n",
       "      <th></th>\n",
       "      <th></th>\n",
       "      <th></th>\n",
       "      <th></th>\n",
       "      <th></th>\n",
       "      <th></th>\n",
       "      <th></th>\n",
       "    </tr>\n",
       "  </thead>\n",
       "  <tbody>\n",
       "    <tr>\n",
       "      <th>200501BS00001</th>\n",
       "      <td>1</td>\n",
       "      <td>9</td>\n",
       "      <td>0</td>\n",
       "      <td>18</td>\n",
       "      <td>0</td>\n",
       "      <td>0</td>\n",
       "      <td>0</td>\n",
       "      <td>0</td>\n",
       "      <td>0</td>\n",
       "      <td>0</td>\n",
       "      <td>...</td>\n",
       "      <td>0</td>\n",
       "      <td>1</td>\n",
       "      <td>1</td>\n",
       "      <td>2</td>\n",
       "      <td>2</td>\n",
       "      <td>0</td>\n",
       "      <td>0</td>\n",
       "      <td>1</td>\n",
       "      <td>1</td>\n",
       "      <td>E01002849</td>\n",
       "    </tr>\n",
       "    <tr>\n",
       "      <th>200501BS00002</th>\n",
       "      <td>1</td>\n",
       "      <td>11</td>\n",
       "      <td>0</td>\n",
       "      <td>4</td>\n",
       "      <td>0</td>\n",
       "      <td>3</td>\n",
       "      <td>0</td>\n",
       "      <td>0</td>\n",
       "      <td>0</td>\n",
       "      <td>0</td>\n",
       "      <td>...</td>\n",
       "      <td>0</td>\n",
       "      <td>5</td>\n",
       "      <td>4</td>\n",
       "      <td>1</td>\n",
       "      <td>1</td>\n",
       "      <td>0</td>\n",
       "      <td>0</td>\n",
       "      <td>1</td>\n",
       "      <td>1</td>\n",
       "      <td>E01002909</td>\n",
       "    </tr>\n",
       "    <tr>\n",
       "      <th>200501BS00003</th>\n",
       "      <td>1</td>\n",
       "      <td>11</td>\n",
       "      <td>0</td>\n",
       "      <td>17</td>\n",
       "      <td>0</td>\n",
       "      <td>0</td>\n",
       "      <td>0</td>\n",
       "      <td>4</td>\n",
       "      <td>0</td>\n",
       "      <td>0</td>\n",
       "      <td>...</td>\n",
       "      <td>0</td>\n",
       "      <td>0</td>\n",
       "      <td>4</td>\n",
       "      <td>1</td>\n",
       "      <td>1</td>\n",
       "      <td>0</td>\n",
       "      <td>0</td>\n",
       "      <td>1</td>\n",
       "      <td>1</td>\n",
       "      <td>E01002857</td>\n",
       "    </tr>\n",
       "    <tr>\n",
       "      <th>200501BS00003</th>\n",
       "      <td>2</td>\n",
       "      <td>9</td>\n",
       "      <td>0</td>\n",
       "      <td>2</td>\n",
       "      <td>0</td>\n",
       "      <td>0</td>\n",
       "      <td>0</td>\n",
       "      <td>0</td>\n",
       "      <td>0</td>\n",
       "      <td>0</td>\n",
       "      <td>...</td>\n",
       "      <td>0</td>\n",
       "      <td>0</td>\n",
       "      <td>4</td>\n",
       "      <td>1</td>\n",
       "      <td>1</td>\n",
       "      <td>0</td>\n",
       "      <td>0</td>\n",
       "      <td>1</td>\n",
       "      <td>1</td>\n",
       "      <td>E01002857</td>\n",
       "    </tr>\n",
       "    <tr>\n",
       "      <th>200501BS00004</th>\n",
       "      <td>1</td>\n",
       "      <td>9</td>\n",
       "      <td>0</td>\n",
       "      <td>18</td>\n",
       "      <td>0</td>\n",
       "      <td>0</td>\n",
       "      <td>0</td>\n",
       "      <td>0</td>\n",
       "      <td>0</td>\n",
       "      <td>0</td>\n",
       "      <td>...</td>\n",
       "      <td>0</td>\n",
       "      <td>0</td>\n",
       "      <td>1</td>\n",
       "      <td>1</td>\n",
       "      <td>1</td>\n",
       "      <td>0</td>\n",
       "      <td>0</td>\n",
       "      <td>1</td>\n",
       "      <td>1</td>\n",
       "      <td>E01002840</td>\n",
       "    </tr>\n",
       "  </tbody>\n",
       "</table>\n",
       "<p>5 rows × 52 columns</p>\n",
       "</div>"
      ],
      "text/plain": [
       "                Vehicle_Reference  Vehicle_Type  Towing_and_Articulation  \\\n",
       "Accident_Index                                                             \n",
       "200501BS00001                   1             9                        0   \n",
       "200501BS00002                   1            11                        0   \n",
       "200501BS00003                   1            11                        0   \n",
       "200501BS00003                   2             9                        0   \n",
       "200501BS00004                   1             9                        0   \n",
       "\n",
       "                Vehicle_Manoeuvre  Vehicle_Location-Restricted_Lane  \\\n",
       "Accident_Index                                                        \n",
       "200501BS00001                  18                                 0   \n",
       "200501BS00002                   4                                 0   \n",
       "200501BS00003                  17                                 0   \n",
       "200501BS00003                   2                                 0   \n",
       "200501BS00004                  18                                 0   \n",
       "\n",
       "                Junction_Location  Skidding_and_Overturning  \\\n",
       "Accident_Index                                                \n",
       "200501BS00001                   0                         0   \n",
       "200501BS00002                   3                         0   \n",
       "200501BS00003                   0                         0   \n",
       "200501BS00003                   0                         0   \n",
       "200501BS00004                   0                         0   \n",
       "\n",
       "                Hit_Object_in_Carriageway  Vehicle_Leaving_Carriageway  \\\n",
       "Accident_Index                                                           \n",
       "200501BS00001                           0                            0   \n",
       "200501BS00002                           0                            0   \n",
       "200501BS00003                           4                            0   \n",
       "200501BS00003                           0                            0   \n",
       "200501BS00004                           0                            0   \n",
       "\n",
       "                Hit_Object_off_Carriageway  ...  \\\n",
       "Accident_Index                              ...   \n",
       "200501BS00001                            0  ...   \n",
       "200501BS00002                            0  ...   \n",
       "200501BS00003                            0  ...   \n",
       "200501BS00003                            0  ...   \n",
       "200501BS00004                            0  ...   \n",
       "\n",
       "                Pedestrian_Crossing-Human_Control  \\\n",
       "Accident_Index                                      \n",
       "200501BS00001                                   0   \n",
       "200501BS00002                                   0   \n",
       "200501BS00003                                   0   \n",
       "200501BS00003                                   0   \n",
       "200501BS00004                                   0   \n",
       "\n",
       "                Pedestrian_Crossing-Physical_Facilities  Light_Conditions  \\\n",
       "Accident_Index                                                              \n",
       "200501BS00001                                         1                 1   \n",
       "200501BS00002                                         5                 4   \n",
       "200501BS00003                                         0                 4   \n",
       "200501BS00003                                         0                 4   \n",
       "200501BS00004                                         0                 1   \n",
       "\n",
       "                Weather_Conditions  Road_Surface_Conditions  \\\n",
       "Accident_Index                                                \n",
       "200501BS00001                    2                        2   \n",
       "200501BS00002                    1                        1   \n",
       "200501BS00003                    1                        1   \n",
       "200501BS00003                    1                        1   \n",
       "200501BS00004                    1                        1   \n",
       "\n",
       "                Special_Conditions_at_Site  Carriageway_Hazards  \\\n",
       "Accident_Index                                                    \n",
       "200501BS00001                            0                    0   \n",
       "200501BS00002                            0                    0   \n",
       "200501BS00003                            0                    0   \n",
       "200501BS00003                            0                    0   \n",
       "200501BS00004                            0                    0   \n",
       "\n",
       "                Urban_or_Rural_Area  \\\n",
       "Accident_Index                        \n",
       "200501BS00001                     1   \n",
       "200501BS00002                     1   \n",
       "200501BS00003                     1   \n",
       "200501BS00003                     1   \n",
       "200501BS00004                     1   \n",
       "\n",
       "                Did_Police_Officer_Attend_Scene_of_Accident  \\\n",
       "Accident_Index                                                \n",
       "200501BS00001                                             1   \n",
       "200501BS00002                                             1   \n",
       "200501BS00003                                             1   \n",
       "200501BS00003                                             1   \n",
       "200501BS00004                                             1   \n",
       "\n",
       "                LSOA_of_Accident_Location  \n",
       "Accident_Index                             \n",
       "200501BS00001                   E01002849  \n",
       "200501BS00002                   E01002909  \n",
       "200501BS00003                   E01002857  \n",
       "200501BS00003                   E01002857  \n",
       "200501BS00004                   E01002840  \n",
       "\n",
       "[5 rows x 52 columns]"
      ]
     },
     "execution_count": 2,
     "metadata": {},
     "output_type": "execute_result"
    }
   ],
   "source": [
    "#Loading Data\n",
    "accident = pd.read_csv('/Users/huedinh/Desktop/Accidents0515.csv', index_col='Accident_Index')\n",
    "vehicle = pd.read_csv(r'/Users/huedinh/Desktop/Vehicles0515.csv', index_col='Accident_Index', error_bad_lines=False)\n",
    "\n",
    "# Merging two data sets into one with inner join by index\n",
    "df = pd.merge(vehicle, accident, how = 'inner', on = 'Accident_Index')\n",
    "print(df.shape)\n",
    "df.head()"
   ]
  },
  {
   "cell_type": "markdown",
   "metadata": {},
   "source": [
    "#### The raw dataset includes over 3 millions observations and 52 variables. This is relatively a large dataset. "
   ]
  },
  {
   "cell_type": "markdown",
   "metadata": {},
   "source": [
    "##### There are many vehicle types are recorded. To make the analysis more concentrated, and avoid over fitting the model, we will focus on the most variaty vehicle - car, which is labelled 9 in the variable Vehicle_Type. "
   ]
  },
  {
   "cell_type": "code",
   "execution_count": 3,
   "metadata": {},
   "outputs": [],
   "source": [
    "df = df[df.Vehicle_Type==9]"
   ]
  },
  {
   "cell_type": "markdown",
   "metadata": {},
   "source": [
    "##### Our Target variable is Accident Severity, so let see how it distributes."
   ]
  },
  {
   "cell_type": "code",
   "execution_count": 30,
   "metadata": {},
   "outputs": [
    {
     "name": "stderr",
     "output_type": "stream",
     "text": [
      "/Users/huedinh/venv36/lib/python3.6/site-packages/seaborn/_decorators.py:43: FutureWarning: Pass the following variable as a keyword arg: x. From version 0.12, the only valid positional argument will be `data`, and passing other arguments without an explicit keyword will result in an error or misinterpretation.\n",
      "  FutureWarning\n"
     ]
    },
    {
     "data": {
      "image/png": "[encoded data removed]",
      "text/plain": [
       "<Figure size 360x360 with 1 Axes>"
      ]
     },
     "metadata": {
      "needs_background": "light"
     },
     "output_type": "display_data"
    }
   ],
   "source": [
    "#Inspecting data by the distribution of the target variable\n",
    "plt.figure(figsize=(5, 5))\n",
    "ax=sns.countplot('Accident_Severity',hue='Accident_Severity',data=df)\n",
    "ax.set_xticklabels(['Fatal','Serious','Slight'])\n",
    "plt.xticks(rotation=90)\n",
    "plt.legend(['Fatal','Serious','Slight'])\n",
    "plt.grid(alpha=0.4)\n"
   ]
  },
  {
   "cell_type": "markdown",
   "metadata": {},
   "source": [
    "### 3. Analysing Variables"
   ]
  },
  {
   "cell_type": "markdown",
   "metadata": {},
   "source": [
    "#### 3.1 Higly bias information"
   ]
  },
  {
   "cell_type": "markdown",
   "metadata": {},
   "source": [
    "Below are the frequency charts of some factors that normally get our first impression"
   ]
  },
  {
   "cell_type": "code",
   "execution_count": 42,
   "metadata": {},
   "outputs": [
    {
     "name": "stderr",
     "output_type": "stream",
     "text": [
      "/Users/huedinh/venv36/lib/python3.6/site-packages/seaborn/_decorators.py:43: FutureWarning: Pass the following variable as a keyword arg: x. From version 0.12, the only valid positional argument will be `data`, and passing other arguments without an explicit keyword will result in an error or misinterpretation.\n",
      "  FutureWarning\n"
     ]
    },
    {
     "data": {
      "image/png": "[encoded data removed]",
      "text/plain": [
       "<Figure size 360x360 with 1 Axes>"
      ]
     },
     "metadata": {
      "needs_background": "light"
     },
     "output_type": "display_data"
    }
   ],
   "source": [
    "plt.figure(figsize=(5, 5))\n",
    "ax=sns.countplot('Journey_Purpose_of_Driver',data=df)\n",
    "ax.set_xticklabels(['NA','Journey as part of work','Commuting to/from work','Taking pupil to/from school', 'Pupil riding to/from school',\n",
    "                   'Other', 'Not known', 'Other/Not known (2005-10)'])\n",
    "plt.xticks(rotation=90)\n",
    "plt.grid(alpha=0.4)"
   ]
  },
  {
   "cell_type": "code",
   "execution_count": 46,
   "metadata": {},
   "outputs": [
    {
     "name": "stderr",
     "output_type": "stream",
     "text": [
      "/Users/huedinh/venv36/lib/python3.6/site-packages/seaborn/_decorators.py:43: FutureWarning: Pass the following variable as a keyword arg: x. From version 0.12, the only valid positional argument will be `data`, and passing other arguments without an explicit keyword will result in an error or misinterpretation.\n",
      "  FutureWarning\n"
     ]
    },
    {
     "data": {
      "image/png": "[encoded data removed]",
      "text/plain": [
       "<Figure size 576x360 with 1 Axes>"
      ]
     },
     "metadata": {
      "needs_background": "light"
     },
     "output_type": "display_data"
    }
   ],
   "source": [
    "plt.figure(figsize=(8, 5))\n",
    "bx=sns.countplot('Age_Band_of_Driver',data=df)\n",
    "bx.set_xticklabels(['NaN', '6 - 10', '11 - 15', '16 - 20', '21 - 25', '26 - 35', \n",
    "                                                              '36 - 45','46 - 55', '56 - 65', '66 - 75', 'Over 75', 'NaN'])\n",
    "\n",
    "plt.grid(alpha=0.4)                   "
   ]
  },
  {
   "cell_type": "code",
   "execution_count": 48,
   "metadata": {},
   "outputs": [
    {
     "name": "stderr",
     "output_type": "stream",
     "text": [
      "/Users/huedinh/venv36/lib/python3.6/site-packages/seaborn/_decorators.py:43: FutureWarning: Pass the following variable as a keyword arg: x. From version 0.12, the only valid positional argument will be `data`, and passing other arguments without an explicit keyword will result in an error or misinterpretation.\n",
      "  FutureWarning\n"
     ]
    },
    {
     "data": {
      "image/png": "[encoded data removed]",
      "text/plain": [
       "<Figure size 360x360 with 1 Axes>"
      ]
     },
     "metadata": {
      "needs_background": "light"
     },
     "output_type": "display_data"
    }
   ],
   "source": [
    "plt.figure(figsize=(5, 5))\n",
    "cx=sns.countplot('Driver_Home_Area_Type',data=df)\n",
    "cx.set_xticklabels(['NA','Urban area', 'Small town', 'Rural'])\n",
    "plt.grid(alpha=0.4)  "
   ]
  },
  {
   "cell_type": "code",
   "execution_count": 50,
   "metadata": {},
   "outputs": [
    {
     "name": "stderr",
     "output_type": "stream",
     "text": [
      "/Users/huedinh/venv36/lib/python3.6/site-packages/seaborn/_decorators.py:43: FutureWarning: Pass the following variable as a keyword arg: x. From version 0.12, the only valid positional argument will be `data`, and passing other arguments without an explicit keyword will result in an error or misinterpretation.\n",
      "  FutureWarning\n"
     ]
    },
    {
     "data": {
      "image/png": "[encoded data removed]",
      "text/plain": [
       "<Figure size 360x360 with 1 Axes>"
      ]
     },
     "metadata": {
      "needs_background": "light"
     },
     "output_type": "display_data"
    }
   ],
   "source": [
    "plt.figure(figsize=(5, 5))\n",
    "dx=sns.countplot('Sex_of_Driver',data=df)\n",
    "dx.set_xticklabels(['NA','Male', 'Female', 'Unknown'])\n",
    "plt.grid(alpha=0.4) "
   ]
  },
  {
   "cell_type": "code",
   "execution_count": 52,
   "metadata": {},
   "outputs": [
    {
     "name": "stderr",
     "output_type": "stream",
     "text": [
      "/Users/huedinh/venv36/lib/python3.6/site-packages/seaborn/_decorators.py:43: FutureWarning: Pass the following variable as a keyword arg: x. From version 0.12, the only valid positional argument will be `data`, and passing other arguments without an explicit keyword will result in an error or misinterpretation.\n",
      "  FutureWarning\n"
     ]
    },
    {
     "data": {
      "image/png": "[encoded data removed]",
      "text/plain": [
       "<Figure size 360x360 with 1 Axes>"
      ]
     },
     "metadata": {
      "needs_background": "light"
     },
     "output_type": "display_data"
    }
   ],
   "source": [
    "plt.figure(figsize=(5, 5))\n",
    "ex=sns.countplot('Urban_or_Rural_Area',data=df)\n",
    "ex.set_xticklabels(['Urban', 'Rural', 'NA'])\n",
    "plt.grid(alpha=0.4)"
   ]
  },
  {
   "cell_type": "markdown",
   "metadata": {},
   "source": [
    "#### 3.2 Choosing variables for prediction"
   ]
  },
  {
   "cell_type": "code",
   "execution_count": 5,
   "metadata": {},
   "outputs": [
    {
     "data": {
      "text/html": [
       "<div>\n",
       "<style scoped>\n",
       "    .dataframe tbody tr th:only-of-type {\n",
       "        vertical-align: middle;\n",
       "    }\n",
       "\n",
       "    .dataframe tbody tr th {\n",
       "        vertical-align: top;\n",
       "    }\n",
       "\n",
       "    .dataframe thead th {\n",
       "        text-align: right;\n",
       "    }\n",
       "</style>\n",
       "<table border=\"1\" class=\"dataframe\">\n",
       "  <thead>\n",
       "    <tr style=\"text-align: right;\">\n",
       "      <th></th>\n",
       "      <th>Vehicle_Manoeuvre</th>\n",
       "      <th>Junction_Location</th>\n",
       "      <th>Day_of_Week</th>\n",
       "      <th>Road_Type</th>\n",
       "      <th>Speed_limit</th>\n",
       "      <th>Junction_Detail</th>\n",
       "      <th>Junction_Control</th>\n",
       "      <th>Light_Conditions</th>\n",
       "      <th>Weather_Conditions</th>\n",
       "      <th>Road_Surface_Conditions</th>\n",
       "      <th>Special_Conditions_at_Site</th>\n",
       "      <th>Accident_Severity</th>\n",
       "    </tr>\n",
       "    <tr>\n",
       "      <th>Accident_Index</th>\n",
       "      <th></th>\n",
       "      <th></th>\n",
       "      <th></th>\n",
       "      <th></th>\n",
       "      <th></th>\n",
       "      <th></th>\n",
       "      <th></th>\n",
       "      <th></th>\n",
       "      <th></th>\n",
       "      <th></th>\n",
       "      <th></th>\n",
       "      <th></th>\n",
       "    </tr>\n",
       "  </thead>\n",
       "  <tbody>\n",
       "    <tr>\n",
       "      <th>200501BS00001</th>\n",
       "      <td>18</td>\n",
       "      <td>0</td>\n",
       "      <td>3</td>\n",
       "      <td>6</td>\n",
       "      <td>30</td>\n",
       "      <td>0</td>\n",
       "      <td>-1</td>\n",
       "      <td>1</td>\n",
       "      <td>2</td>\n",
       "      <td>2</td>\n",
       "      <td>0</td>\n",
       "      <td>2</td>\n",
       "    </tr>\n",
       "    <tr>\n",
       "      <th>200501BS00003</th>\n",
       "      <td>2</td>\n",
       "      <td>0</td>\n",
       "      <td>5</td>\n",
       "      <td>6</td>\n",
       "      <td>30</td>\n",
       "      <td>0</td>\n",
       "      <td>-1</td>\n",
       "      <td>4</td>\n",
       "      <td>1</td>\n",
       "      <td>1</td>\n",
       "      <td>0</td>\n",
       "      <td>3</td>\n",
       "    </tr>\n",
       "    <tr>\n",
       "      <th>200501BS00004</th>\n",
       "      <td>18</td>\n",
       "      <td>0</td>\n",
       "      <td>6</td>\n",
       "      <td>6</td>\n",
       "      <td>30</td>\n",
       "      <td>0</td>\n",
       "      <td>-1</td>\n",
       "      <td>1</td>\n",
       "      <td>1</td>\n",
       "      <td>1</td>\n",
       "      <td>0</td>\n",
       "      <td>3</td>\n",
       "    </tr>\n",
       "    <tr>\n",
       "      <th>200501BS00006</th>\n",
       "      <td>5</td>\n",
       "      <td>0</td>\n",
       "      <td>3</td>\n",
       "      <td>6</td>\n",
       "      <td>30</td>\n",
       "      <td>0</td>\n",
       "      <td>-1</td>\n",
       "      <td>1</td>\n",
       "      <td>2</td>\n",
       "      <td>2</td>\n",
       "      <td>6</td>\n",
       "      <td>3</td>\n",
       "    </tr>\n",
       "    <tr>\n",
       "      <th>200501BS00007</th>\n",
       "      <td>2</td>\n",
       "      <td>1</td>\n",
       "      <td>5</td>\n",
       "      <td>6</td>\n",
       "      <td>30</td>\n",
       "      <td>3</td>\n",
       "      <td>4</td>\n",
       "      <td>4</td>\n",
       "      <td>1</td>\n",
       "      <td>1</td>\n",
       "      <td>0</td>\n",
       "      <td>3</td>\n",
       "    </tr>\n",
       "  </tbody>\n",
       "</table>\n",
       "</div>"
      ],
      "text/plain": [
       "                Vehicle_Manoeuvre  Junction_Location  Day_of_Week  Road_Type  \\\n",
       "Accident_Index                                                                 \n",
       "200501BS00001                  18                  0            3          6   \n",
       "200501BS00003                   2                  0            5          6   \n",
       "200501BS00004                  18                  0            6          6   \n",
       "200501BS00006                   5                  0            3          6   \n",
       "200501BS00007                   2                  1            5          6   \n",
       "\n",
       "                Speed_limit  Junction_Detail  Junction_Control  \\\n",
       "Accident_Index                                                   \n",
       "200501BS00001            30                0                -1   \n",
       "200501BS00003            30                0                -1   \n",
       "200501BS00004            30                0                -1   \n",
       "200501BS00006            30                0                -1   \n",
       "200501BS00007            30                3                 4   \n",
       "\n",
       "                Light_Conditions  Weather_Conditions  Road_Surface_Conditions  \\\n",
       "Accident_Index                                                                  \n",
       "200501BS00001                  1                   2                        2   \n",
       "200501BS00003                  4                   1                        1   \n",
       "200501BS00004                  1                   1                        1   \n",
       "200501BS00006                  1                   2                        2   \n",
       "200501BS00007                  4                   1                        1   \n",
       "\n",
       "                Special_Conditions_at_Site  Accident_Severity  \n",
       "Accident_Index                                                 \n",
       "200501BS00001                            0                  2  \n",
       "200501BS00003                            0                  3  \n",
       "200501BS00004                            0                  3  \n",
       "200501BS00006                            6                  3  \n",
       "200501BS00007                            0                  3  "
      ]
     },
     "execution_count": 5,
     "metadata": {},
     "output_type": "execute_result"
    }
   ],
   "source": [
    "# The dataframe includes variables for further analysis. \n",
    "df2 = df[['Vehicle_Manoeuvre', 'Junction_Location', 'Day_of_Week', 'Road_Type', 'Speed_limit', 'Junction_Detail', 'Junction_Control', 'Light_Conditions', 'Weather_Conditions', 'Road_Surface_Conditions', 'Special_Conditions_at_Site', 'Accident_Severity']]\n",
    "df2.head()"
   ]
  },
  {
   "cell_type": "code",
   "execution_count": 6,
   "metadata": {},
   "outputs": [
    {
     "data": {
      "text/plain": [
       "<Figure size 432x288 with 0 Axes>"
      ]
     },
     "metadata": {},
     "output_type": "display_data"
    },
    {
     "data": {
      "image/png": "[encoded data removed]",
      "text/plain": [
       "<Figure size 1440x1440 with 12 Axes>"
      ]
     },
     "metadata": {
      "needs_background": "light"
     },
     "output_type": "display_data"
    }
   ],
   "source": [
    "plt.figure()\n",
    "df2.hist(figsize=(20,20));"
   ]
  },
  {
   "cell_type": "markdown",
   "metadata": {},
   "source": [
    "### 4. Discussion"
   ]
  },
  {
   "cell_type": "markdown",
   "metadata": {},
   "source": [
    "As the dataset is the record of all accident, so we might straight away think, for all variables, any attribute has a higher frequency, it would have a higher possibility to cause the accident. \n",
    "\n",
    "5 factors above are the typical example. \n",
    "- Journey_Purpose_of_Driver - The histogram shows, trips which involve \"journey to work\" and \"take children to school\" are most frequent, because these purposes are the most purpose of people who drive their cars for.                 \n",
    "- Sex_of_Driver - Men are more likely to cause an accident than women, simply because men more likely to drive than women.  \n",
    "- Age_Band_of_Driver - The most frequent age-band whose get accidents are at their 30s and 40s, simply because people in these age band are the most likely to own a car and drive it to work, to pick-up, drop-off kids. \n",
    "- Driver_home_type_area and Urban_rural area - These factors are simply due to the density of the population, the more density the area is, the more traffic on the road, and the more likely accident will happen. \n",
    "\n",
    "Therefore, we won't use these variables. \n",
    "\n",
    "In contrast, variables will be used for prediction are easy identified, noticed beforehand in real-life situations. Which also are causations of accidents those might do get enough attention.  \n",
    "\n",
    "We will also ignore variables are consequences of an accident, which can only know after it happens. "
   ]
  },
  {
   "cell_type": "markdown",
   "metadata": {},
   "source": [
    "### 5. Data Preparation for prediction"
   ]
  },
  {
   "cell_type": "markdown",
   "metadata": {},
   "source": [
    "The target variable is Accident Severity classed in 3 levels, Slight - 3, Serious - 2 and Fatal - 1. Geeting to fatal is an unwanted consequence, so extreme awareness should be from Serious level. Therefore, we will combine Serious and Fatal to 'Serious to Fatal' level. In the classification model, 0 represents Slight, and 1 represents for 'Serious to Fatal'. So we will transform the dataset. "
   ]
  },
  {
   "cell_type": "code",
   "execution_count": 7,
   "metadata": {},
   "outputs": [
    {
     "name": "stderr",
     "output_type": "stream",
     "text": [
      "/Users/huedinh/venv36/lib/python3.6/site-packages/ipykernel_launcher.py:2: SettingWithCopyWarning: \n",
      "A value is trying to be set on a copy of a slice from a DataFrame.\n",
      "Try using .loc[row_indexer,col_indexer] = value instead\n",
      "\n",
      "See the caveats in the documentation: https://pandas.pydata.org/pandas-docs/stable/user_guide/indexing.html#returning-a-view-versus-a-copy\n",
      "  \n"
     ]
    },
    {
     "data": {
      "text/html": [
       "<div>\n",
       "<style scoped>\n",
       "    .dataframe tbody tr th:only-of-type {\n",
       "        vertical-align: middle;\n",
       "    }\n",
       "\n",
       "    .dataframe tbody tr th {\n",
       "        vertical-align: top;\n",
       "    }\n",
       "\n",
       "    .dataframe thead th {\n",
       "        text-align: right;\n",
       "    }\n",
       "</style>\n",
       "<table border=\"1\" class=\"dataframe\">\n",
       "  <thead>\n",
       "    <tr style=\"text-align: right;\">\n",
       "      <th></th>\n",
       "      <th>Vehicle_Manoeuvre</th>\n",
       "      <th>Junction_Location</th>\n",
       "      <th>Day_of_Week</th>\n",
       "      <th>Road_Type</th>\n",
       "      <th>Speed_limit</th>\n",
       "      <th>Junction_Detail</th>\n",
       "      <th>Junction_Control</th>\n",
       "      <th>Light_Conditions</th>\n",
       "      <th>Weather_Conditions</th>\n",
       "      <th>Road_Surface_Conditions</th>\n",
       "      <th>Special_Conditions_at_Site</th>\n",
       "      <th>Accident_Severity</th>\n",
       "    </tr>\n",
       "    <tr>\n",
       "      <th>Accident_Index</th>\n",
       "      <th></th>\n",
       "      <th></th>\n",
       "      <th></th>\n",
       "      <th></th>\n",
       "      <th></th>\n",
       "      <th></th>\n",
       "      <th></th>\n",
       "      <th></th>\n",
       "      <th></th>\n",
       "      <th></th>\n",
       "      <th></th>\n",
       "      <th></th>\n",
       "    </tr>\n",
       "  </thead>\n",
       "  <tbody>\n",
       "    <tr>\n",
       "      <th>200501BS00001</th>\n",
       "      <td>18</td>\n",
       "      <td>0</td>\n",
       "      <td>3</td>\n",
       "      <td>6</td>\n",
       "      <td>30</td>\n",
       "      <td>0</td>\n",
       "      <td>-1</td>\n",
       "      <td>1</td>\n",
       "      <td>2</td>\n",
       "      <td>2</td>\n",
       "      <td>0</td>\n",
       "      <td>1</td>\n",
       "    </tr>\n",
       "    <tr>\n",
       "      <th>200501BS00003</th>\n",
       "      <td>2</td>\n",
       "      <td>0</td>\n",
       "      <td>5</td>\n",
       "      <td>6</td>\n",
       "      <td>30</td>\n",
       "      <td>0</td>\n",
       "      <td>-1</td>\n",
       "      <td>4</td>\n",
       "      <td>1</td>\n",
       "      <td>1</td>\n",
       "      <td>0</td>\n",
       "      <td>0</td>\n",
       "    </tr>\n",
       "    <tr>\n",
       "      <th>200501BS00004</th>\n",
       "      <td>18</td>\n",
       "      <td>0</td>\n",
       "      <td>6</td>\n",
       "      <td>6</td>\n",
       "      <td>30</td>\n",
       "      <td>0</td>\n",
       "      <td>-1</td>\n",
       "      <td>1</td>\n",
       "      <td>1</td>\n",
       "      <td>1</td>\n",
       "      <td>0</td>\n",
       "      <td>0</td>\n",
       "    </tr>\n",
       "    <tr>\n",
       "      <th>200501BS00006</th>\n",
       "      <td>5</td>\n",
       "      <td>0</td>\n",
       "      <td>3</td>\n",
       "      <td>6</td>\n",
       "      <td>30</td>\n",
       "      <td>0</td>\n",
       "      <td>-1</td>\n",
       "      <td>1</td>\n",
       "      <td>2</td>\n",
       "      <td>2</td>\n",
       "      <td>6</td>\n",
       "      <td>0</td>\n",
       "    </tr>\n",
       "    <tr>\n",
       "      <th>200501BS00007</th>\n",
       "      <td>2</td>\n",
       "      <td>1</td>\n",
       "      <td>5</td>\n",
       "      <td>6</td>\n",
       "      <td>30</td>\n",
       "      <td>3</td>\n",
       "      <td>4</td>\n",
       "      <td>4</td>\n",
       "      <td>1</td>\n",
       "      <td>1</td>\n",
       "      <td>0</td>\n",
       "      <td>0</td>\n",
       "    </tr>\n",
       "  </tbody>\n",
       "</table>\n",
       "</div>"
      ],
      "text/plain": [
       "                Vehicle_Manoeuvre  Junction_Location  Day_of_Week  Road_Type  \\\n",
       "Accident_Index                                                                 \n",
       "200501BS00001                  18                  0            3          6   \n",
       "200501BS00003                   2                  0            5          6   \n",
       "200501BS00004                  18                  0            6          6   \n",
       "200501BS00006                   5                  0            3          6   \n",
       "200501BS00007                   2                  1            5          6   \n",
       "\n",
       "                Speed_limit  Junction_Detail  Junction_Control  \\\n",
       "Accident_Index                                                   \n",
       "200501BS00001            30                0                -1   \n",
       "200501BS00003            30                0                -1   \n",
       "200501BS00004            30                0                -1   \n",
       "200501BS00006            30                0                -1   \n",
       "200501BS00007            30                3                 4   \n",
       "\n",
       "                Light_Conditions  Weather_Conditions  Road_Surface_Conditions  \\\n",
       "Accident_Index                                                                  \n",
       "200501BS00001                  1                   2                        2   \n",
       "200501BS00003                  4                   1                        1   \n",
       "200501BS00004                  1                   1                        1   \n",
       "200501BS00006                  1                   2                        2   \n",
       "200501BS00007                  4                   1                        1   \n",
       "\n",
       "                Special_Conditions_at_Site  Accident_Severity  \n",
       "Accident_Index                                                 \n",
       "200501BS00001                            0                  1  \n",
       "200501BS00003                            0                  0  \n",
       "200501BS00004                            0                  0  \n",
       "200501BS00006                            6                  0  \n",
       "200501BS00007                            0                  0  "
      ]
     },
     "execution_count": 7,
     "metadata": {},
     "output_type": "execute_result"
    }
   ],
   "source": [
    "#From 3 to 2 classes, so that 0 = Slight, 1 = Serious to Fatal\n",
    "df2['Accident_Severity'] = df2['Accident_Severity'].replace([2,3],[1,0])\n",
    "df2.head()"
   ]
  },
  {
   "cell_type": "code",
   "execution_count": 8,
   "metadata": {},
   "outputs": [
    {
     "name": "stderr",
     "output_type": "stream",
     "text": [
      "/Users/huedinh/venv36/lib/python3.6/site-packages/ipykernel_launcher.py:7: SettingWithCopyWarning: \n",
      "A value is trying to be set on a copy of a slice from a DataFrame.\n",
      "Try using .loc[row_indexer,col_indexer] = value instead\n",
      "\n",
      "See the caveats in the documentation: https://pandas.pydata.org/pandas-docs/stable/user_guide/indexing.html#returning-a-view-versus-a-copy\n",
      "  import sys\n"
     ]
    }
   ],
   "source": [
    "#Return the categorical value to the data frame - base on explaination of the dataset \n",
    "df2['Vehicle_Manoeuvre'] = df2['Vehicle_Manoeuvre'].replace([1, 2, 3, 4, 5, 6, 7, 8, 9, 10, 11, 12, 13, 14, 15, 16, 17, 18, -1 ],\n",
    "                                                 ['Reversing', 'Parked', 'Waiting to go - held up', 'Slowing or stopping', 'Moving off', 'U-turn',\n",
    "                                                            'Turning left' , 'Waiting to turn left', 'Turning right', 'Waiting to turn right', \n",
    "                                                            'Changing lane to left', 'Changing lane to right', 'Overtaking moving vehicle - offside',\n",
    "                                                            'Overtaking static vehicle - offside', 'Overtaking - nearside', 'Going ahead left-hand bend', \n",
    "                                                            'Going ahead right-hand bend', 'Going ahead other' , 'NaN'])"
   ]
  },
  {
   "cell_type": "code",
   "execution_count": 9,
   "metadata": {},
   "outputs": [
    {
     "name": "stderr",
     "output_type": "stream",
     "text": [
      "/Users/huedinh/venv36/lib/python3.6/site-packages/ipykernel_launcher.py:6: SettingWithCopyWarning: \n",
      "A value is trying to be set on a copy of a slice from a DataFrame.\n",
      "Try using .loc[row_indexer,col_indexer] = value instead\n",
      "\n",
      "See the caveats in the documentation: https://pandas.pydata.org/pandas-docs/stable/user_guide/indexing.html#returning-a-view-versus-a-copy\n",
      "  \n"
     ]
    }
   ],
   "source": [
    "df2['Junction_Location'] = df2['Junction_Location'].replace([0, 1, 2, 3, 4, 5, 6, 7, 8, -1],\n",
    "                                                           ['Not at or within 20 metres of junction', \n",
    "                                                            'Approaching junction or waiting/parked at junction approach', \n",
    "                                                            'Cleared junction or waiting/parked at junction exit', 'Leaving roundabout', \n",
    "                                                            'Entering roundabout', 'Leaving main road','Entering main road', 'Entering from slip road', \n",
    "                                                            'Mid Junction - on roundabout or on main road', 'NaN'])"
   ]
  },
  {
   "cell_type": "code",
   "execution_count": 10,
   "metadata": {},
   "outputs": [
    {
     "name": "stderr",
     "output_type": "stream",
     "text": [
      "/Users/huedinh/venv36/lib/python3.6/site-packages/ipykernel_launcher.py:1: SettingWithCopyWarning: \n",
      "A value is trying to be set on a copy of a slice from a DataFrame.\n",
      "Try using .loc[row_indexer,col_indexer] = value instead\n",
      "\n",
      "See the caveats in the documentation: https://pandas.pydata.org/pandas-docs/stable/user_guide/indexing.html#returning-a-view-versus-a-copy\n",
      "  \"\"\"Entry point for launching an IPython kernel.\n"
     ]
    }
   ],
   "source": [
    "df2['Day_of_Week'] = df2['Day_of_Week'].replace([1, 2, 3, 4, 5, 6, 7], ['Sun', 'Mon', 'Tue', 'Wed', 'Thu', 'Fri', 'Sat'])"
   ]
  },
  {
   "cell_type": "code",
   "execution_count": 11,
   "metadata": {},
   "outputs": [
    {
     "name": "stderr",
     "output_type": "stream",
     "text": [
      "/Users/huedinh/venv36/lib/python3.6/site-packages/ipykernel_launcher.py:3: SettingWithCopyWarning: \n",
      "A value is trying to be set on a copy of a slice from a DataFrame.\n",
      "Try using .loc[row_indexer,col_indexer] = value instead\n",
      "\n",
      "See the caveats in the documentation: https://pandas.pydata.org/pandas-docs/stable/user_guide/indexing.html#returning-a-view-versus-a-copy\n",
      "  This is separate from the ipykernel package so we can avoid doing imports until\n"
     ]
    }
   ],
   "source": [
    "df2['Road_Type'] = df2['Road_Type'].replace([1, 2, 3, 6, 7, 9, 12, -1], \n",
    "                                            ['Roundabout', 'One way street', 'Dual carriageway', \n",
    "                                            'Single carriageway', 'Slip road', 'Others', 'One way street/Slip road', 'NaN'])"
   ]
  },
  {
   "cell_type": "code",
   "execution_count": 12,
   "metadata": {},
   "outputs": [
    {
     "name": "stderr",
     "output_type": "stream",
     "text": [
      "/Users/huedinh/venv36/lib/python3.6/site-packages/ipykernel_launcher.py:2: SettingWithCopyWarning: \n",
      "A value is trying to be set on a copy of a slice from a DataFrame.\n",
      "Try using .loc[row_indexer,col_indexer] = value instead\n",
      "\n",
      "See the caveats in the documentation: https://pandas.pydata.org/pandas-docs/stable/user_guide/indexing.html#returning-a-view-versus-a-copy\n",
      "  \n"
     ]
    }
   ],
   "source": [
    "df2['Speed_limit'] = df2['Speed_limit'].replace([20, 30, 40, 50, 60, 70, -1 ],\n",
    "                                                ['20 MPH', '30 MPH', '40 MPH','50 MPH', '60 MPH', '70 MPH', 'NaN'])"
   ]
  },
  {
   "cell_type": "code",
   "execution_count": 13,
   "metadata": {},
   "outputs": [
    {
     "name": "stderr",
     "output_type": "stream",
     "text": [
      "/Users/huedinh/venv36/lib/python3.6/site-packages/ipykernel_launcher.py:4: SettingWithCopyWarning: \n",
      "A value is trying to be set on a copy of a slice from a DataFrame.\n",
      "Try using .loc[row_indexer,col_indexer] = value instead\n",
      "\n",
      "See the caveats in the documentation: https://pandas.pydata.org/pandas-docs/stable/user_guide/indexing.html#returning-a-view-versus-a-copy\n",
      "  after removing the cwd from sys.path.\n"
     ]
    }
   ],
   "source": [
    "df2['Junction_Detail'] = df2['Junction_Detail'].replace([0, 1, 2, 3, 5, 6, 7, 8, 9, -1],\n",
    "                                                        ['Not at junction or within 20 metres', 'Roundabout', 'Mini-roundabout', \n",
    "                                                         'T or staggered junction', 'Slip road', 'Crossroads', 'More than 4 arms (not roundabout)', \n",
    "                                                         'Private drive or entrance', 'Other junction', 'NaN'])"
   ]
  },
  {
   "cell_type": "code",
   "execution_count": 14,
   "metadata": {},
   "outputs": [
    {
     "name": "stderr",
     "output_type": "stream",
     "text": [
      "/Users/huedinh/venv36/lib/python3.6/site-packages/ipykernel_launcher.py:3: SettingWithCopyWarning: \n",
      "A value is trying to be set on a copy of a slice from a DataFrame.\n",
      "Try using .loc[row_indexer,col_indexer] = value instead\n",
      "\n",
      "See the caveats in the documentation: https://pandas.pydata.org/pandas-docs/stable/user_guide/indexing.html#returning-a-view-versus-a-copy\n",
      "  This is separate from the ipykernel package so we can avoid doing imports until\n"
     ]
    }
   ],
   "source": [
    "df2['Junction_Control'] = df2['Junction_Control'].replace([0, 1, 2, 3, 4, -1],\n",
    "                                                          ['Not at junction or within 20 metres', 'Authorised person', 'Auto traffic signal', 'Stop sign', \n",
    "                                                           'Give way or uncontrolled', 'others'])"
   ]
  },
  {
   "cell_type": "code",
   "execution_count": 14,
   "metadata": {},
   "outputs": [
    {
     "name": "stderr",
     "output_type": "stream",
     "text": [
      "/Users/huedinh/venv36/lib/python3.6/site-packages/ipykernel_launcher.py:3: SettingWithCopyWarning: \n",
      "A value is trying to be set on a copy of a slice from a DataFrame.\n",
      "Try using .loc[row_indexer,col_indexer] = value instead\n",
      "\n",
      "See the caveats in the documentation: https://pandas.pydata.org/pandas-docs/stable/user_guide/indexing.html#returning-a-view-versus-a-copy\n",
      "  This is separate from the ipykernel package so we can avoid doing imports until\n"
     ]
    }
   ],
   "source": [
    "df2['Light_Conditions'] = df2['Light_Conditions'].replace([1, 4, 5, 6, 7, -1],\n",
    "                                                          ['Daylight', 'Darkness - lights lit', 'Darkness - lights unlit', \n",
    "                                                           'Darkness - no lighting', 'Darkness - lighting unknown', 'NaN'])"
   ]
  },
  {
   "cell_type": "code",
   "execution_count": 15,
   "metadata": {},
   "outputs": [
    {
     "name": "stderr",
     "output_type": "stream",
     "text": [
      "/Users/huedinh/venv36/lib/python3.6/site-packages/ipykernel_launcher.py:3: SettingWithCopyWarning: \n",
      "A value is trying to be set on a copy of a slice from a DataFrame.\n",
      "Try using .loc[row_indexer,col_indexer] = value instead\n",
      "\n",
      "See the caveats in the documentation: https://pandas.pydata.org/pandas-docs/stable/user_guide/indexing.html#returning-a-view-versus-a-copy\n",
      "  This is separate from the ipykernel package so we can avoid doing imports until\n"
     ]
    }
   ],
   "source": [
    "df2['Weather_Conditions'] = df2['Weather_Conditions'].replace([1, 2, 3, 4, 5, 6, 7, 8, 9, -1],\n",
    "                                                              ['Fine no high winds', 'Raining no high winds', 'Snowing no high winds', 'Fine + high winds', \n",
    "                                                               'Raining + high winds', 'Snowing + high winds', 'Fog or mist', 'Other', 'Unknown', 'NaN'])"
   ]
  },
  {
   "cell_type": "code",
   "execution_count": 16,
   "metadata": {},
   "outputs": [
    {
     "name": "stderr",
     "output_type": "stream",
     "text": [
      "/Users/huedinh/venv36/lib/python3.6/site-packages/ipykernel_launcher.py:2: SettingWithCopyWarning: \n",
      "A value is trying to be set on a copy of a slice from a DataFrame.\n",
      "Try using .loc[row_indexer,col_indexer] = value instead\n",
      "\n",
      "See the caveats in the documentation: https://pandas.pydata.org/pandas-docs/stable/user_guide/indexing.html#returning-a-view-versus-a-copy\n",
      "  \n"
     ]
    }
   ],
   "source": [
    "df2['Road_Surface_Conditions'] = df2['Road_Surface_Conditions'].replace([1, 2, 3, 4, 5,-1],\n",
    "                                                                        ['Dry', 'Wet or damp', 'Snow', 'Frost or ice', 'Flood over 3cm. deep','NaN'])\n",
    "                                                                        "
   ]
  },
  {
   "cell_type": "code",
   "execution_count": 17,
   "metadata": {},
   "outputs": [
    {
     "name": "stderr",
     "output_type": "stream",
     "text": [
      "/Users/huedinh/venv36/lib/python3.6/site-packages/ipykernel_launcher.py:3: SettingWithCopyWarning: \n",
      "A value is trying to be set on a copy of a slice from a DataFrame.\n",
      "Try using .loc[row_indexer,col_indexer] = value instead\n",
      "\n",
      "See the caveats in the documentation: https://pandas.pydata.org/pandas-docs/stable/user_guide/indexing.html#returning-a-view-versus-a-copy\n",
      "  This is separate from the ipykernel package so we can avoid doing imports until\n"
     ]
    }
   ],
   "source": [
    "df2['Special_Conditions_at_Site'] = df2['Special_Conditions_at_Site'].replace([0, 1, 2, 3, 4, 5, 6, 7, -1],\n",
    "                                                                              ['None', 'Auto traffic signal - out', 'Auto signal part defective', 'Road sign or marking defective or obscured', \n",
    "                                                                               'Roadworks', 'Road surface defective', 'Oil or diesel', 'Mud', 'NaN'])"
   ]
  },
  {
   "cell_type": "markdown",
   "metadata": {},
   "source": [
    "In the dataset, -1 values represents for missing values, as the dataset is large enough, so we can drop all missing values "
   ]
  },
  {
   "cell_type": "code",
   "execution_count": 18,
   "metadata": {},
   "outputs": [
    {
     "data": {
      "text/plain": [
       "(2205201, 12)"
      ]
     },
     "execution_count": 18,
     "metadata": {},
     "output_type": "execute_result"
    }
   ],
   "source": [
    "df2 = df2.dropna(axis = 0)\n",
    "df2.shape"
   ]
  },
  {
   "cell_type": "markdown",
   "metadata": {},
   "source": [
    "### 4. Logistic regression "
   ]
  },
  {
   "cell_type": "markdown",
   "metadata": {},
   "source": [
    "This model will be used for predicting the likelihood of particular conditions combination will cause accident severity to be 'Slight' or ' Serious to Fatal."
   ]
  },
  {
   "cell_type": "markdown",
   "metadata": {},
   "source": [
    "All Variables are categorical, we need to make them as dummies. "
   ]
  },
  {
   "cell_type": "code",
   "execution_count": 19,
   "metadata": {},
   "outputs": [],
   "source": [
    "#Making variables as dummies \n",
    "df2['Vehicle_Manoeuvre'] = df2['Vehicle_Manoeuvre'].astype('category')\n",
    "df2['Junction_Location'] = df2['Junction_Location'].astype('category')\n",
    "df2['Day_of_Week'] = df2['Day_of_Week'].astype('category')\n",
    "df2['Road_Type'] = df2['Road_Type'].astype('category')\n",
    "df2['Speed_limit'] = df2['Speed_limit'].astype('category')\n",
    "df2['Junction_Detail'] = df2['Junction_Detail'].astype('category')\n",
    "df2['Junction_Control'] =  df2['Junction_Control'].astype('category')\n",
    "df2['Light_Conditions'] = df2['Light_Conditions'].astype('category')\n",
    "df2['Weather_Conditions'] = df2['Weather_Conditions'].astype('category')\n",
    "df2['Road_Surface_Conditions'] = df2['Road_Surface_Conditions'].astype('category')\n",
    "df2['Special_Conditions_at_Site'] = df2['Special_Conditions_at_Site'].astype('category')\n",
    "df3 =  pd.get_dummies(df2)"
   ]
  },
  {
   "cell_type": "markdown",
   "metadata": {},
   "source": [
    "Spliting the dataset, we make extra proportion validation dataset for later identifying the identical threshold later."
   ]
  },
  {
   "cell_type": "code",
   "execution_count": 20,
   "metadata": {},
   "outputs": [],
   "source": [
    "def train_validate_test_split(df, train_percent=.6, validate_percent=.2, seed=101):\n",
    "    np.random.seed(seed)\n",
    "    perm = np.random.permutation(df.index)\n",
    "    m = len(df.index)\n",
    "    train_end = int(train_percent * m)\n",
    "    validate_end = int(validate_percent * m) + train_end\n",
    "    train = df.loc[perm[:train_end]]\n",
    "    validate = df.loc[perm[train_end:validate_end]]\n",
    "    test = df.loc[perm[validate_end:]]\n",
    "    return train, validate, test\n",
    "train, validate, test = train_validate_test_split(df3)\n",
    "X_train = train.drop('Accident_Severity',1)\n",
    "y_train = train['Accident_Severity']\n",
    "X_validation = validate.drop('Accident_Severity',1)\n",
    "y_validation = validate['Accident_Severity']\n",
    "X_test = test.drop('Accident_Severity',1)\n",
    "y_test = test['Accident_Severity']"
   ]
  },
  {
   "cell_type": "markdown",
   "metadata": {},
   "source": [
    "Inspecting the distribution of Target Variable in the splited training dataset"
   ]
  },
  {
   "cell_type": "code",
   "execution_count": 56,
   "metadata": {},
   "outputs": [
    {
     "name": "stderr",
     "output_type": "stream",
     "text": [
      "/Users/huedinh/venv36/lib/python3.6/site-packages/seaborn/_decorators.py:43: FutureWarning: Pass the following variable as a keyword arg: x. From version 0.12, the only valid positional argument will be `data`, and passing other arguments without an explicit keyword will result in an error or misinterpretation.\n",
      "  FutureWarning\n"
     ]
    },
    {
     "data": {
      "image/png": "[encoded data removed]",
      "text/plain": [
       "<Figure size 360x360 with 1 Axes>"
      ]
     },
     "metadata": {
      "needs_background": "light"
     },
     "output_type": "display_data"
    }
   ],
   "source": [
    "plt.figure(figsize=(5, 5))\n",
    "ax=sns.countplot('Accident_Severity',hue='Accident_Severity',data=train)\n",
    "ax.set_xticklabels(['Slight','Serious or Fatal'])\n",
    "plt.grid(alpha=0.4)"
   ]
  },
  {
   "cell_type": "markdown",
   "metadata": {},
   "source": [
    "Accident_Severity is heavily imbalanced to 'Slight' side, so we need to make the test-set to be more balanced. \n",
    "As the dataset is large enough, so we can use 30% sample to get the more optimal result of blancing. "
   ]
  },
  {
   "cell_type": "code",
   "execution_count": 22,
   "metadata": {},
   "outputs": [
    {
     "name": "stdout",
     "output_type": "stream",
     "text": [
      "(749666, 97)\n"
     ]
    }
   ],
   "source": [
    "# Creating weights that are opposite to the weights of target\n",
    "weights = np.where(train['Accident_Severity'] == 0, .2, .8)\n",
    "\n",
    "#Sampling 30% of the data with new weights  \n",
    "sample = train.sample(frac=0.3, replace=True, weights=weights)\n",
    "print(sample.shape)"
   ]
  },
  {
   "cell_type": "code",
   "execution_count": 57,
   "metadata": {},
   "outputs": [
    {
     "name": "stderr",
     "output_type": "stream",
     "text": [
      "/Users/huedinh/venv36/lib/python3.6/site-packages/seaborn/_decorators.py:43: FutureWarning: Pass the following variable as a keyword arg: x. From version 0.12, the only valid positional argument will be `data`, and passing other arguments without an explicit keyword will result in an error or misinterpretation.\n",
      "  FutureWarning\n"
     ]
    },
    {
     "data": {
      "image/png": "[encoded data removed]",
      "text/plain": [
       "<Figure size 360x360 with 1 Axes>"
      ]
     },
     "metadata": {
      "needs_background": "light"
     },
     "output_type": "display_data"
    }
   ],
   "source": [
    "plt.figure(figsize=(5, 5))\n",
    "ax=sns.countplot('Accident_Severity',hue='Accident_Severity',data=sample)\n",
    "ax.set_xticklabels(['Slight','Serious or Fatal'])\n",
    "plt.grid(alpha=0.4)"
   ]
  },
  {
   "cell_type": "markdown",
   "metadata": {},
   "source": [
    "The new training datasets, which are blanced for further modelling"
   ]
  },
  {
   "cell_type": "code",
   "execution_count": 24,
   "metadata": {},
   "outputs": [],
   "source": [
    "X_train = sample.drop('Accident_Severity',1)\n",
    "y_train = sample['Accident_Severity']"
   ]
  },
  {
   "cell_type": "code",
   "execution_count": 25,
   "metadata": {},
   "outputs": [
    {
     "name": "stderr",
     "output_type": "stream",
     "text": [
      "/Users/huedinh/venv36/lib/python3.6/site-packages/sklearn/linear_model/_logistic.py:764: ConvergenceWarning: lbfgs failed to converge (status=1):\n",
      "STOP: TOTAL NO. of ITERATIONS REACHED LIMIT.\n",
      "\n",
      "Increase the number of iterations (max_iter) or scale the data as shown in:\n",
      "    https://scikit-learn.org/stable/modules/preprocessing.html\n",
      "Please also refer to the documentation for alternative solver options:\n",
      "    https://scikit-learn.org/stable/modules/linear_model.html#logistic-regression\n",
      "  extra_warning_msg=_LOGISTIC_SOLVER_CONVERGENCE_MSG)\n"
     ]
    },
    {
     "name": "stdout",
     "output_type": "stream",
     "text": [
      "Accuracy of logistic regression classifier on test set: 0.85\n"
     ]
    }
   ],
   "source": [
    "# Building Logistic regression model\n",
    "logreg = LogisticRegression()\n",
    "logreg.fit(X_train, y_train)\n",
    "y_pred = logreg.predict(X_test)\n",
    "print('Accuracy of logistic regression classifier on test set: {:.2f}'.format(logreg.score(X_test, y_test)))"
   ]
  },
  {
   "cell_type": "code",
   "execution_count": 26,
   "metadata": {},
   "outputs": [],
   "source": [
    "from sklearn.metrics import roc_auc_score, auc, roc_curve, confusion_matrix"
   ]
  },
  {
   "cell_type": "markdown",
   "metadata": {},
   "source": [
    "The default threshold in logistic regression is 0.5, we can look for the optimal one to make increase the accuracy of the model"
   ]
  },
  {
   "cell_type": "code",
   "execution_count": 27,
   "metadata": {},
   "outputs": [
    {
     "data": {
      "text/html": [
       "<div>\n",
       "<style scoped>\n",
       "    .dataframe tbody tr th:only-of-type {\n",
       "        vertical-align: middle;\n",
       "    }\n",
       "\n",
       "    .dataframe tbody tr th {\n",
       "        vertical-align: top;\n",
       "    }\n",
       "\n",
       "    .dataframe thead th {\n",
       "        text-align: right;\n",
       "    }\n",
       "</style>\n",
       "<table border=\"1\" class=\"dataframe\">\n",
       "  <thead>\n",
       "    <tr style=\"text-align: right;\">\n",
       "      <th></th>\n",
       "      <th>fpr</th>\n",
       "      <th>tpr</th>\n",
       "      <th>1-fpr</th>\n",
       "      <th>tf</th>\n",
       "      <th>thresholds</th>\n",
       "    </tr>\n",
       "  </thead>\n",
       "  <tbody>\n",
       "    <tr>\n",
       "      <th>32206</th>\n",
       "      <td>0.374092</td>\n",
       "      <td>0.625891</td>\n",
       "      <td>0.625908</td>\n",
       "      <td>-0.000017</td>\n",
       "      <td>0.33</td>\n",
       "    </tr>\n",
       "  </tbody>\n",
       "</table>\n",
       "</div>"
      ],
      "text/plain": [
       "            fpr       tpr     1-fpr        tf  thresholds\n",
       "32206  0.374092  0.625891  0.625908 -0.000017        0.33"
      ]
     },
     "execution_count": 27,
     "metadata": {},
     "output_type": "execute_result"
    }
   ],
   "source": [
    "fpr, tpr, thresholds = roc_curve(y_validation, logreg.predict_proba(X_validation)[:,1])\n",
    "i = np.arange(len(tpr)) \n",
    "roc = pd.DataFrame({'fpr' : pd.Series(fpr, index=i),'tpr' : pd.Series(tpr, index = i), '1-fpr' : pd.Series(1-fpr, index = i), 'tf' : pd.Series(tpr - (1-fpr), index = i), 'thresholds' : pd.Series(thresholds, index = i)})\n",
    "roc.iloc[(roc.tf-0).abs().argsort()[:1]]"
   ]
  },
  {
   "cell_type": "code",
   "execution_count": 28,
   "metadata": {},
   "outputs": [
    {
     "name": "stdout",
     "output_type": "stream",
     "text": [
      "Accuracy: 0.93\n"
     ]
    }
   ],
   "source": [
    "THRESHOLD = 0.62\n",
    "preds = np.where(logreg.predict_proba(X_test)[:,1] > THRESHOLD, 1, 0)\n",
    "print('Accuracy: {:.2f}'.format(logreg.score(X_test, preds)))"
   ]
  },
  {
   "cell_type": "markdown",
   "metadata": {},
   "source": [
    "The optimal threshold which bring the accuracy of the model to 93%"
   ]
  },
  {
   "cell_type": "markdown",
   "metadata": {},
   "source": [
    "### 5. Conclusion"
   ]
  },
  {
   "cell_type": "markdown",
   "metadata": {},
   "source": [
    "With the high accuracy of this model, it can be applied in real-life situations at local authorities in controlling traffic. In particular, they can base on the weather forecast, which is highly accurate nowadays, and local traffic conditions to: \n",
    "\n",
    "- Upgrade traffic Infrastructure if it's allowed\n",
    "- Distribute workforce to 'hotspot' areas, day and time. \n",
    "- Have appropriate signs to raise awareness for drivers in high-risk conditions \n",
    "- And many more \n",
    "\n",
    "This analysis has focused on factors which can implement easily in daily basic, of any local authority. It also avoids bias information which is the nature of social development. \n",
    "\n",
    "Not only authorities but also people who join the traffic can implement this model to reduce the severity caused by car accidents. \n"
   ]
  },
  {
   "cell_type": "code",
   "execution_count": null,
   "metadata": {},
   "outputs": [],
   "source": []
  }
 ],
 "metadata": {
  "kernelspec": {
   "display_name": "Python 3",
   "language": "python",
   "name": "python3"
  },
  "language_info": {
   "codemirror_mode": {
    "name": "ipython",
    "version": 3
   },
   "file_extension": ".py",
   "mimetype": "text/x-python",
   "name": "python",
   "nbconvert_exporter": "python",
   "pygments_lexer": "ipython3",
   "version": "3.6.3"
  }
 },
 "nbformat": 4,
 "nbformat_minor": 4
}
