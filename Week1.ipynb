{
 "cells": [
  {
   "cell_type": "markdown",
   "metadata": {},
   "source": [
    "# Data Science - IBM Coursera Capstone Project "
   ]
  },
  {
   "cell_type": "markdown",
   "metadata": {},
   "source": [
    "#### Author Name: Hue Dinh - Data Science Student"
   ]
  },
  {
   "cell_type": "markdown",
   "metadata": {},
   "source": [
    "# Car Accident Severity Analysis and Prediction with Logistic Regression"
   ]
  },
  {
   "cell_type": "markdown",
   "metadata": {},
   "source": [
    "### 1. Introduction"
   ]
  },
  {
   "cell_type": "markdown",
   "metadata": {},
   "source": [
    "#### Background:\n",
    "Cars accident is a crucial problem for all countries in the world. It annually makes over 26.000 people die or seriously injured in Great Britain alone (reported in 2018). It indeed brings along numerous social and personal consequences. \n",
    "\n",
    "Car accidents casualties are various, controllable and uncontrollable. Therefore, an accurate analysis prediction model is necessary to help drivers and lawmakers to have awareness in particular situations so that severity will be minimised.\n",
    "\n",
    "This project will focus on analysing accident data - The record of car accidents in the UK from 2005 to 2015, which include contributing factors to severity.\n",
    "\n",
    "#### Problem\n",
    "\n",
    "The data might includes bias information which is a part of natural society development. This project will build a model for predicting the severity of car accidents in particular conditions, which can be aware of. \n",
    "\n",
    "#### Interest\n",
    "\n",
    "Local governments, especially police force will work much more effective if they know how severe a day can be. Appropriate actions will be taken, workforce will be more productive. Moreover, the application can be developed to send driver appropriate alerts on a day which is dangerous for driving so that they can consider to take public transport instead."
   ]
  },
  {
   "cell_type": "markdown",
   "metadata": {},
   "source": [
    "#### About the Dataset "
   ]
  },
  {
   "cell_type": "markdown",
   "metadata": {},
   "source": [
    "\n",
    "Data set will be used in this analysis are Accidents and Vehicle from Road Safety Data, provided by UK government. \n",
    "They can be found __[HERE](https://www.kaggle.com/silicon99/dft-accident-data)__ and fully explained __[HERE](https://data.gov.uk/dataset/cb7ae6f0-4be6-4935-9277-47e5ce24a11f/road-safety-data)__ . They recored accidents and vehicles in those accidents, including acidental scenes, conditions at site, vehicle details, etc... \n"
   ]
  },
  {
   "cell_type": "markdown",
   "metadata": {},
   "source": [
    "### 2. Data acquisition"
   ]
  },
  {
   "cell_type": "code",
   "execution_count": 1,
   "metadata": {},
   "outputs": [],
   "source": [
    "# Importing neccessary libraries \n",
    "import numpy as np # linear algebra\n",
    "import pandas as pd # data processing, CSV file I/O (e.g. pd.read_csv)\n",
    "from datetime import datetime as dt\n",
    "import time\n",
    "import matplotlib.pyplot as plt\n",
    "from sklearn.model_selection import train_test_split as split\n",
    "from sklearn.metrics import confusion_matrix, classification_report, accuracy_score\n",
    "from sklearn.linear_model import LogisticRegression\n",
    "from sklearn.pipeline import Pipeline, FeatureUnion\n",
    "from sklearn.preprocessing import MinMaxScaler, FunctionTransformer, OneHotEncoder, KBinsDiscretizer, MaxAbsScaler\n",
    "from sklearn.feature_selection import VarianceThreshold\n",
    "from sklearn.ensemble import RandomForestClassifier\n",
    "from sklearn.impute import SimpleImputer\n",
    "import seaborn as sns\n",
    "sns.set()\n",
    "import math\n",
    "\n",
    "%matplotlib inline"
   ]
  },
  {
   "cell_type": "code",
   "execution_count": 2,
   "metadata": {},
   "outputs": [
    {
     "name": "stderr",
     "output_type": "stream",
     "text": [
      "IOPub data rate exceeded.\n",
      "The notebook server will temporarily stop sending output\n",
      "to the client in order to avoid crashing it.\n",
      "To change this limit, set the config variable\n",
      "`--NotebookApp.iopub_data_rate_limit`.\n",
      "\n",
      "Current values:\n",
      "NotebookApp.iopub_data_rate_limit=1000000.0 (bytes/sec)\n",
      "NotebookApp.rate_limit_window=3.0 (secs)\n",
      "\n"
     ]
    },
    {
     "name": "stdout",
     "output_type": "stream",
     "text": [
      "(3004425, 52)\n"
     ]
    },
    {
     "data": {
      "text/html": [
       "<div>\n",
       "<style scoped>\n",
       "    .dataframe tbody tr th:only-of-type {\n",
       "        vertical-align: middle;\n",
       "    }\n",
       "\n",
       "    .dataframe tbody tr th {\n",
       "        vertical-align: top;\n",
       "    }\n",
       "\n",
       "    .dataframe thead th {\n",
       "        text-align: right;\n",
       "    }\n",
       "</style>\n",
       "<table border=\"1\" class=\"dataframe\">\n",
       "  <thead>\n",
       "    <tr style=\"text-align: right;\">\n",
       "      <th></th>\n",
       "      <th>Vehicle_Reference</th>\n",
       "      <th>Vehicle_Type</th>\n",
       "      <th>Towing_and_Articulation</th>\n",
       "      <th>Vehicle_Manoeuvre</th>\n",
       "      <th>Vehicle_Location-Restricted_Lane</th>\n",
       "      <th>Junction_Location</th>\n",
       "      <th>Skidding_and_Overturning</th>\n",
       "      <th>Hit_Object_in_Carriageway</th>\n",
       "      <th>Vehicle_Leaving_Carriageway</th>\n",
       "      <th>Hit_Object_off_Carriageway</th>\n",
       "      <th>...</th>\n",
       "      <th>Pedestrian_Crossing-Human_Control</th>\n",
       "      <th>Pedestrian_Crossing-Physical_Facilities</th>\n",
       "      <th>Light_Conditions</th>\n",
       "      <th>Weather_Conditions</th>\n",
       "      <th>Road_Surface_Conditions</th>\n",
       "      <th>Special_Conditions_at_Site</th>\n",
       "      <th>Carriageway_Hazards</th>\n",
       "      <th>Urban_or_Rural_Area</th>\n",
       "      <th>Did_Police_Officer_Attend_Scene_of_Accident</th>\n",
       "      <th>LSOA_of_Accident_Location</th>\n",
       "    </tr>\n",
       "    <tr>\n",
       "      <th>Accident_Index</th>\n",
       "      <th></th>\n",
       "      <th></th>\n",
       "      <th></th>\n",
       "      <th></th>\n",
       "      <th></th>\n",
       "      <th></th>\n",
       "      <th></th>\n",
       "      <th></th>\n",
       "      <th></th>\n",
       "      <th></th>\n",
       "      <th></th>\n",
       "      <th></th>\n",
       "      <th></th>\n",
       "      <th></th>\n",
       "      <th></th>\n",
       "      <th></th>\n",
       "      <th></th>\n",
       "      <th></th>\n",
       "      <th></th>\n",
       "      <th></th>\n",
       "      <th></th>\n",
       "    </tr>\n",
       "  </thead>\n",
       "  <tbody>\n",
       "    <tr>\n",
       "      <th>200501BS00001</th>\n",
       "      <td>1</td>\n",
       "      <td>9</td>\n",
       "      <td>0</td>\n",
       "      <td>18</td>\n",
       "      <td>0</td>\n",
       "      <td>0</td>\n",
       "      <td>0</td>\n",
       "      <td>0</td>\n",
       "      <td>0</td>\n",
       "      <td>0</td>\n",
       "      <td>...</td>\n",
       "      <td>0</td>\n",
       "      <td>1</td>\n",
       "      <td>1</td>\n",
       "      <td>2</td>\n",
       "      <td>2</td>\n",
       "      <td>0</td>\n",
       "      <td>0</td>\n",
       "      <td>1</td>\n",
       "      <td>1</td>\n",
       "      <td>E01002849</td>\n",
       "    </tr>\n",
       "    <tr>\n",
       "      <th>200501BS00002</th>\n",
       "      <td>1</td>\n",
       "      <td>11</td>\n",
       "      <td>0</td>\n",
       "      <td>4</td>\n",
       "      <td>0</td>\n",
       "      <td>3</td>\n",
       "      <td>0</td>\n",
       "      <td>0</td>\n",
       "      <td>0</td>\n",
       "      <td>0</td>\n",
       "      <td>...</td>\n",
       "      <td>0</td>\n",
       "      <td>5</td>\n",
       "      <td>4</td>\n",
       "      <td>1</td>\n",
       "      <td>1</td>\n",
       "      <td>0</td>\n",
       "      <td>0</td>\n",
       "      <td>1</td>\n",
       "      <td>1</td>\n",
       "      <td>E01002909</td>\n",
       "    </tr>\n",
       "    <tr>\n",
       "      <th>200501BS00003</th>\n",
       "      <td>1</td>\n",
       "      <td>11</td>\n",
       "      <td>0</td>\n",
       "      <td>17</td>\n",
       "      <td>0</td>\n",
       "      <td>0</td>\n",
       "      <td>0</td>\n",
       "      <td>4</td>\n",
       "      <td>0</td>\n",
       "      <td>0</td>\n",
       "      <td>...</td>\n",
       "      <td>0</td>\n",
       "      <td>0</td>\n",
       "      <td>4</td>\n",
       "      <td>1</td>\n",
       "      <td>1</td>\n",
       "      <td>0</td>\n",
       "      <td>0</td>\n",
       "      <td>1</td>\n",
       "      <td>1</td>\n",
       "      <td>E01002857</td>\n",
       "    </tr>\n",
       "    <tr>\n",
       "      <th>200501BS00003</th>\n",
       "      <td>2</td>\n",
       "      <td>9</td>\n",
       "      <td>0</td>\n",
       "      <td>2</td>\n",
       "      <td>0</td>\n",
       "      <td>0</td>\n",
       "      <td>0</td>\n",
       "      <td>0</td>\n",
       "      <td>0</td>\n",
       "      <td>0</td>\n",
       "      <td>...</td>\n",
       "      <td>0</td>\n",
       "      <td>0</td>\n",
       "      <td>4</td>\n",
       "      <td>1</td>\n",
       "      <td>1</td>\n",
       "      <td>0</td>\n",
       "      <td>0</td>\n",
       "      <td>1</td>\n",
       "      <td>1</td>\n",
       "      <td>E01002857</td>\n",
       "    </tr>\n",
       "    <tr>\n",
       "      <th>200501BS00004</th>\n",
       "      <td>1</td>\n",
       "      <td>9</td>\n",
       "      <td>0</td>\n",
       "      <td>18</td>\n",
       "      <td>0</td>\n",
       "      <td>0</td>\n",
       "      <td>0</td>\n",
       "      <td>0</td>\n",
       "      <td>0</td>\n",
       "      <td>0</td>\n",
       "      <td>...</td>\n",
       "      <td>0</td>\n",
       "      <td>0</td>\n",
       "      <td>1</td>\n",
       "      <td>1</td>\n",
       "      <td>1</td>\n",
       "      <td>0</td>\n",
       "      <td>0</td>\n",
       "      <td>1</td>\n",
       "      <td>1</td>\n",
       "      <td>E01002840</td>\n",
       "    </tr>\n",
       "  </tbody>\n",
       "</table>\n",
       "<p>5 rows × 52 columns</p>\n",
       "</div>"
      ],
      "text/plain": [
       "                Vehicle_Reference  Vehicle_Type  Towing_and_Articulation  \\\n",
       "Accident_Index                                                             \n",
       "200501BS00001                   1             9                        0   \n",
       "200501BS00002                   1            11                        0   \n",
       "200501BS00003                   1            11                        0   \n",
       "200501BS00003                   2             9                        0   \n",
       "200501BS00004                   1             9                        0   \n",
       "\n",
       "                Vehicle_Manoeuvre  Vehicle_Location-Restricted_Lane  \\\n",
       "Accident_Index                                                        \n",
       "200501BS00001                  18                                 0   \n",
       "200501BS00002                   4                                 0   \n",
       "200501BS00003                  17                                 0   \n",
       "200501BS00003                   2                                 0   \n",
       "200501BS00004                  18                                 0   \n",
       "\n",
       "                Junction_Location  Skidding_and_Overturning  \\\n",
       "Accident_Index                                                \n",
       "200501BS00001                   0                         0   \n",
       "200501BS00002                   3                         0   \n",
       "200501BS00003                   0                         0   \n",
       "200501BS00003                   0                         0   \n",
       "200501BS00004                   0                         0   \n",
       "\n",
       "                Hit_Object_in_Carriageway  Vehicle_Leaving_Carriageway  \\\n",
       "Accident_Index                                                           \n",
       "200501BS00001                           0                            0   \n",
       "200501BS00002                           0                            0   \n",
       "200501BS00003                           4                            0   \n",
       "200501BS00003                           0                            0   \n",
       "200501BS00004                           0                            0   \n",
       "\n",
       "                Hit_Object_off_Carriageway  ...  \\\n",
       "Accident_Index                              ...   \n",
       "200501BS00001                            0  ...   \n",
       "200501BS00002                            0  ...   \n",
       "200501BS00003                            0  ...   \n",
       "200501BS00003                            0  ...   \n",
       "200501BS00004                            0  ...   \n",
       "\n",
       "                Pedestrian_Crossing-Human_Control  \\\n",
       "Accident_Index                                      \n",
       "200501BS00001                                   0   \n",
       "200501BS00002                                   0   \n",
       "200501BS00003                                   0   \n",
       "200501BS00003                                   0   \n",
       "200501BS00004                                   0   \n",
       "\n",
       "                Pedestrian_Crossing-Physical_Facilities  Light_Conditions  \\\n",
       "Accident_Index                                                              \n",
       "200501BS00001                                         1                 1   \n",
       "200501BS00002                                         5                 4   \n",
       "200501BS00003                                         0                 4   \n",
       "200501BS00003                                         0                 4   \n",
       "200501BS00004                                         0                 1   \n",
       "\n",
       "                Weather_Conditions  Road_Surface_Conditions  \\\n",
       "Accident_Index                                                \n",
       "200501BS00001                    2                        2   \n",
       "200501BS00002                    1                        1   \n",
       "200501BS00003                    1                        1   \n",
       "200501BS00003                    1                        1   \n",
       "200501BS00004                    1                        1   \n",
       "\n",
       "                Special_Conditions_at_Site  Carriageway_Hazards  \\\n",
       "Accident_Index                                                    \n",
       "200501BS00001                            0                    0   \n",
       "200501BS00002                            0                    0   \n",
       "200501BS00003                            0                    0   \n",
       "200501BS00003                            0                    0   \n",
       "200501BS00004                            0                    0   \n",
       "\n",
       "                Urban_or_Rural_Area  \\\n",
       "Accident_Index                        \n",
       "200501BS00001                     1   \n",
       "200501BS00002                     1   \n",
       "200501BS00003                     1   \n",
       "200501BS00003                     1   \n",
       "200501BS00004                     1   \n",
       "\n",
       "                Did_Police_Officer_Attend_Scene_of_Accident  \\\n",
       "Accident_Index                                                \n",
       "200501BS00001                                             1   \n",
       "200501BS00002                                             1   \n",
       "200501BS00003                                             1   \n",
       "200501BS00003                                             1   \n",
       "200501BS00004                                             1   \n",
       "\n",
       "                LSOA_of_Accident_Location  \n",
       "Accident_Index                             \n",
       "200501BS00001                   E01002849  \n",
       "200501BS00002                   E01002909  \n",
       "200501BS00003                   E01002857  \n",
       "200501BS00003                   E01002857  \n",
       "200501BS00004                   E01002840  \n",
       "\n",
       "[5 rows x 52 columns]"
      ]
     },
     "execution_count": 2,
     "metadata": {},
     "output_type": "execute_result"
    }
   ],
   "source": [
    "#Loading Data\n",
    "accident = pd.read_csv('/Users/huedinh/Desktop/Accidents0515.csv', index_col='Accident_Index')\n",
    "vehicle = pd.read_csv(r'/Users/huedinh/Desktop/Vehicles0515.csv', index_col='Accident_Index', error_bad_lines=False)\n",
    "\n",
    "# Merging two data sets into one with inner join by index\n",
    "df = pd.merge(vehicle, accident, how = 'inner', on = 'Accident_Index')\n",
    "print(df.shape)\n",
    "df.head()"
   ]
  },
  {
   "cell_type": "markdown",
   "metadata": {},
   "source": [
    "### 2.1 About the dataset\n",
    "Vehicle_type has 20 different attributes, however car (number 9), has the significant frequency. Since other vehicles have different set of contributing factors to the severity, and to make the model to be more more accurate, we will focus on only car accident. \n",
    "\n",
    "Each observation in the dataset is the record of one vehicle in an accident. Each accident may contain more than one vehicle, so the picture from the dataset, how each factor attribute to the severity is more clear. \n",
    "\n",
    "The dataset is represent by Label-Encoding, which represent each category in each variable as a number. All missing values are represented by -1. As this is a large dataset, so it allows us to drop all missing values for analysis. \n",
    "\n",
    "This dataset is contributed mostly by categorical variables, which is easy to be understood, as the record of accidents are based on check-list from the police. "
   ]
  },
  {
   "cell_type": "code",
   "execution_count": 3,
   "metadata": {},
   "outputs": [
    {
     "name": "stderr",
     "output_type": "stream",
     "text": [
      "/Users/huedinh/venv36/lib/python3.6/site-packages/seaborn/_decorators.py:43: FutureWarning: Pass the following variable as a keyword arg: x. From version 0.12, the only valid positional argument will be `data`, and passing other arguments without an explicit keyword will result in an error or misinterpretation.\n",
      "  FutureWarning\n"
     ]
    },
    {
     "data": {
      "image/png": "[encoded data removed]",
      "text/plain": [
       "<Figure size 720x360 with 1 Axes>"
      ]
     },
     "metadata": {
      "needs_background": "light"
     },
     "output_type": "display_data"
    }
   ],
   "source": [
    "plt.figure(figsize=(10, 5))\n",
    "ax=sns.countplot('Vehicle_Type',data=df)\n",
    "plt.grid(alpha=0.4)"
   ]
  },
  {
   "cell_type": "markdown",
   "metadata": {},
   "source": [
    "##### There are many vehicle types are recorded. To make the analysis more concentrated, and avoid over fitting the model, we will focus on the most variaty vehicle - car, which is labelled 9 in the variable Vehicle_Type. "
   ]
  },
  {
   "cell_type": "code",
   "execution_count": 6,
   "metadata": {},
   "outputs": [
    {
     "data": {
      "text/plain": [
       "(2205201, 52)"
      ]
     },
     "execution_count": 6,
     "metadata": {},
     "output_type": "execute_result"
    }
   ],
   "source": [
    "df = df[df.Vehicle_Type==9]\n",
    "df.shape"
   ]
  },
  {
   "cell_type": "markdown",
   "metadata": {},
   "source": [
    "The original dataset has 3 millions observations, after filter Vehicle type to car only, the new dataset has 2,2 millions observations, relatively large. "
   ]
  },
  {
   "cell_type": "markdown",
   "metadata": {},
   "source": [
    "### 2.2. Identifing highly bias variables "
   ]
  },
  {
   "cell_type": "markdown",
   "metadata": {},
   "source": [
    "#### These factors seem to have considerable participation in causing accidents. However, they are simply the nature result of the society development. Such as people at the age of 30s and 40s are more likely to own and to use a car then the rest, urban areas are more density than rural areas, so more people drive, more accidents occur. Therefore, we do not use these variables. "
   ]
  },
  {
   "cell_type": "code",
   "execution_count": 42,
   "metadata": {},
   "outputs": [
    {
     "name": "stderr",
     "output_type": "stream",
     "text": [
      "/Users/huedinh/venv36/lib/python3.6/site-packages/seaborn/_decorators.py:43: FutureWarning: Pass the following variable as a keyword arg: x. From version 0.12, the only valid positional argument will be `data`, and passing other arguments without an explicit keyword will result in an error or misinterpretation.\n",
      "  FutureWarning\n"
     ]
    },
    {
     "data": {
      "image/png": "[encoded data removed]",
      "text/plain": [
       "<Figure size 360x360 with 1 Axes>"
      ]
     },
     "metadata": {
      "needs_background": "light"
     },
     "output_type": "display_data"
    }
   ],
   "source": [
    "#Journey_Purpose_of_Driver\n",
    "plt.figure(figsize=(5, 5))\n",
    "ax=sns.countplot('Journey_Purpose_of_Driver',data=df)\n",
    "ax.set_xticklabels(['NA','Journey as part of work','Commuting to/from work','Taking pupil to/from school', 'Pupil riding to/from school',\n",
    "                   'Other', 'Not known', 'Other/Not known (2005-10)'])\n",
    "plt.xticks(rotation=90)\n",
    "plt.grid(alpha=0.4)"
   ]
  },
  {
   "cell_type": "code",
   "execution_count": 46,
   "metadata": {},
   "outputs": [
    {
     "name": "stderr",
     "output_type": "stream",
     "text": [
      "/Users/huedinh/venv36/lib/python3.6/site-packages/seaborn/_decorators.py:43: FutureWarning: Pass the following variable as a keyword arg: x. From version 0.12, the only valid positional argument will be `data`, and passing other arguments without an explicit keyword will result in an error or misinterpretation.\n",
      "  FutureWarning\n"
     ]
    },
    {
     "data": {
      "image/png": "[encoded data removed]",
      "text/plain": [
       "<Figure size 576x360 with 1 Axes>"
      ]
     },
     "metadata": {
      "needs_background": "light"
     },
     "output_type": "display_data"
    }
   ],
   "source": [
    "#Age_Band_of_Driver\n",
    "plt.figure(figsize=(8, 5))\n",
    "bx=sns.countplot('Age_Band_of_Driver',data=df)\n",
    "bx.set_xticklabels(['NaN', '6 - 10', '11 - 15', '16 - 20', '21 - 25', '26 - 35', \n",
    "                                                              '36 - 45','46 - 55', '56 - 65', '66 - 75', 'Over 75', 'NaN'])\n",
    "\n",
    "plt.grid(alpha=0.4)                   "
   ]
  },
  {
   "cell_type": "code",
   "execution_count": 48,
   "metadata": {},
   "outputs": [
    {
     "name": "stderr",
     "output_type": "stream",
     "text": [
      "/Users/huedinh/venv36/lib/python3.6/site-packages/seaborn/_decorators.py:43: FutureWarning: Pass the following variable as a keyword arg: x. From version 0.12, the only valid positional argument will be `data`, and passing other arguments without an explicit keyword will result in an error or misinterpretation.\n",
      "  FutureWarning\n"
     ]
    },
    {
     "data": {
      "image/png": "[encoded data removed]",
      "text/plain": [
       "<Figure size 360x360 with 1 Axes>"
      ]
     },
     "metadata": {
      "needs_background": "light"
     },
     "output_type": "display_data"
    }
   ],
   "source": [
    "#Driver_Home_Area_Type\n",
    "plt.figure(figsize=(5, 5))\n",
    "cx=sns.countplot('Driver_Home_Area_Type',data=df)\n",
    "cx.set_xticklabels(['NA','Urban area', 'Small town', 'Rural'])\n",
    "plt.grid(alpha=0.4)  "
   ]
  },
  {
   "cell_type": "code",
   "execution_count": 50,
   "metadata": {},
   "outputs": [
    {
     "name": "stderr",
     "output_type": "stream",
     "text": [
      "/Users/huedinh/venv36/lib/python3.6/site-packages/seaborn/_decorators.py:43: FutureWarning: Pass the following variable as a keyword arg: x. From version 0.12, the only valid positional argument will be `data`, and passing other arguments without an explicit keyword will result in an error or misinterpretation.\n",
      "  FutureWarning\n"
     ]
    },
    {
     "data": {
      "image/png": "[encoded data removed]",
      "text/plain": [
       "<Figure size 360x360 with 1 Axes>"
      ]
     },
     "metadata": {
      "needs_background": "light"
     },
     "output_type": "display_data"
    }
   ],
   "source": [
    "#Driver_Home_Area_Type\n",
    "plt.figure(figsize=(5, 5))\n",
    "dx=sns.countplot('Sex_of_Driver',data=df)\n",
    "dx.set_xticklabels(['NA','Male', 'Female', 'Unknown'])\n",
    "plt.grid(alpha=0.4) "
   ]
  },
  {
   "cell_type": "code",
   "execution_count": 52,
   "metadata": {},
   "outputs": [
    {
     "name": "stderr",
     "output_type": "stream",
     "text": [
      "/Users/huedinh/venv36/lib/python3.6/site-packages/seaborn/_decorators.py:43: FutureWarning: Pass the following variable as a keyword arg: x. From version 0.12, the only valid positional argument will be `data`, and passing other arguments without an explicit keyword will result in an error or misinterpretation.\n",
      "  FutureWarning\n"
     ]
    },
    {
     "data": {
      "image/png": "[encoded data removed]",
      "text/plain": [
       "<Figure size 360x360 with 1 Axes>"
      ]
     },
     "metadata": {
      "needs_background": "light"
     },
     "output_type": "display_data"
    }
   ],
   "source": [
    "#Urban_or_Rural_Are\n",
    "plt.figure(figsize=(5, 5))\n",
    "ex=sns.countplot('Urban_or_Rural_Area',data=df)\n",
    "ex.set_xticklabels(['Urban', 'Rural', 'NA'])\n",
    "plt.grid(alpha=0.4)"
   ]
  },
  {
   "cell_type": "markdown",
   "metadata": {},
   "source": [
    "### 2.3 Choosing variables for prediction\n",
    "As mentioned in the introduction section, and the application of the analysis, we will focus on factors that authorities - our user - can be aware of beforehand, so that they can take proper actions to limit the damages. \n",
    "We will run logistic regression model later, so that choosing a small amount of good variables will also avoid over fitting the model. "
   ]
  },
  {
   "cell_type": "markdown",
   "metadata": {},
   "source": [
    "Features: Towing_and_Articulation, Skidding_and_Overturning, Hit_Object_in_Carriageway, Vehicle_Leaving_Carriageway, Hit_Object_off_Carriageway, 1st_Point_of_Impact, Number_of_Vehicles , Number_of_Casualties \n",
    "\n",
    "Dropping reason: They are Consequences, only can be collected once an accident happens."
   ]
  },
  {
   "cell_type": "markdown",
   "metadata": {},
   "source": [
    "Features: Was_Vehicle_Left_Hand_Drive?, Journey_Purpose_of_Driver, Sex_of_Driver, Age_of_Driver, Age_Band_of_Driver , Engine_Capacity_(CC) , Propulsion_Code, Age_of_Vehicle, Driver_IMD_Decile , Local_Authority_(District)\n",
    "\n",
    "Dropping reason: Bias information, and the process of controlling these variables will be extremely complicated and bring along many consequences. \n"
   ]
  },
  {
   "cell_type": "markdown",
   "metadata": {},
   "source": [
    "Location features\n",
    "\n",
    "Dropping reason: These variables lead to one factor: The more density an area is, the more car accidents happen, so we will not focusing on these factor as we can make a hypothesis that authorities of all area in the UK understand their location and society well to have an appropriate awareness on car accident severity. "
   ]
  },
  {
   "cell_type": "code",
   "execution_count": 5,
   "metadata": {},
   "outputs": [
    {
     "data": {
      "text/html": [
       "<div>\n",
       "<style scoped>\n",
       "    .dataframe tbody tr th:only-of-type {\n",
       "        vertical-align: middle;\n",
       "    }\n",
       "\n",
       "    .dataframe tbody tr th {\n",
       "        vertical-align: top;\n",
       "    }\n",
       "\n",
       "    .dataframe thead th {\n",
       "        text-align: right;\n",
       "    }\n",
       "</style>\n",
       "<table border=\"1\" class=\"dataframe\">\n",
       "  <thead>\n",
       "    <tr style=\"text-align: right;\">\n",
       "      <th></th>\n",
       "      <th>Vehicle_Manoeuvre</th>\n",
       "      <th>Junction_Location</th>\n",
       "      <th>Day_of_Week</th>\n",
       "      <th>Road_Type</th>\n",
       "      <th>Speed_limit</th>\n",
       "      <th>Junction_Detail</th>\n",
       "      <th>Junction_Control</th>\n",
       "      <th>Light_Conditions</th>\n",
       "      <th>Weather_Conditions</th>\n",
       "      <th>Road_Surface_Conditions</th>\n",
       "      <th>Special_Conditions_at_Site</th>\n",
       "      <th>Accident_Severity</th>\n",
       "    </tr>\n",
       "    <tr>\n",
       "      <th>Accident_Index</th>\n",
       "      <th></th>\n",
       "      <th></th>\n",
       "      <th></th>\n",
       "      <th></th>\n",
       "      <th></th>\n",
       "      <th></th>\n",
       "      <th></th>\n",
       "      <th></th>\n",
       "      <th></th>\n",
       "      <th></th>\n",
       "      <th></th>\n",
       "      <th></th>\n",
       "    </tr>\n",
       "  </thead>\n",
       "  <tbody>\n",
       "    <tr>\n",
       "      <th>200501BS00001</th>\n",
       "      <td>18</td>\n",
       "      <td>0</td>\n",
       "      <td>3</td>\n",
       "      <td>6</td>\n",
       "      <td>30</td>\n",
       "      <td>0</td>\n",
       "      <td>-1</td>\n",
       "      <td>1</td>\n",
       "      <td>2</td>\n",
       "      <td>2</td>\n",
       "      <td>0</td>\n",
       "      <td>2</td>\n",
       "    </tr>\n",
       "    <tr>\n",
       "      <th>200501BS00003</th>\n",
       "      <td>2</td>\n",
       "      <td>0</td>\n",
       "      <td>5</td>\n",
       "      <td>6</td>\n",
       "      <td>30</td>\n",
       "      <td>0</td>\n",
       "      <td>-1</td>\n",
       "      <td>4</td>\n",
       "      <td>1</td>\n",
       "      <td>1</td>\n",
       "      <td>0</td>\n",
       "      <td>3</td>\n",
       "    </tr>\n",
       "    <tr>\n",
       "      <th>200501BS00004</th>\n",
       "      <td>18</td>\n",
       "      <td>0</td>\n",
       "      <td>6</td>\n",
       "      <td>6</td>\n",
       "      <td>30</td>\n",
       "      <td>0</td>\n",
       "      <td>-1</td>\n",
       "      <td>1</td>\n",
       "      <td>1</td>\n",
       "      <td>1</td>\n",
       "      <td>0</td>\n",
       "      <td>3</td>\n",
       "    </tr>\n",
       "    <tr>\n",
       "      <th>200501BS00006</th>\n",
       "      <td>5</td>\n",
       "      <td>0</td>\n",
       "      <td>3</td>\n",
       "      <td>6</td>\n",
       "      <td>30</td>\n",
       "      <td>0</td>\n",
       "      <td>-1</td>\n",
       "      <td>1</td>\n",
       "      <td>2</td>\n",
       "      <td>2</td>\n",
       "      <td>6</td>\n",
       "      <td>3</td>\n",
       "    </tr>\n",
       "    <tr>\n",
       "      <th>200501BS00007</th>\n",
       "      <td>2</td>\n",
       "      <td>1</td>\n",
       "      <td>5</td>\n",
       "      <td>6</td>\n",
       "      <td>30</td>\n",
       "      <td>3</td>\n",
       "      <td>4</td>\n",
       "      <td>4</td>\n",
       "      <td>1</td>\n",
       "      <td>1</td>\n",
       "      <td>0</td>\n",
       "      <td>3</td>\n",
       "    </tr>\n",
       "  </tbody>\n",
       "</table>\n",
       "</div>"
      ],
      "text/plain": [
       "                Vehicle_Manoeuvre  Junction_Location  Day_of_Week  Road_Type  \\\n",
       "Accident_Index                                                                 \n",
       "200501BS00001                  18                  0            3          6   \n",
       "200501BS00003                   2                  0            5          6   \n",
       "200501BS00004                  18                  0            6          6   \n",
       "200501BS00006                   5                  0            3          6   \n",
       "200501BS00007                   2                  1            5          6   \n",
       "\n",
       "                Speed_limit  Junction_Detail  Junction_Control  \\\n",
       "Accident_Index                                                   \n",
       "200501BS00001            30                0                -1   \n",
       "200501BS00003            30                0                -1   \n",
       "200501BS00004            30                0                -1   \n",
       "200501BS00006            30                0                -1   \n",
       "200501BS00007            30                3                 4   \n",
       "\n",
       "                Light_Conditions  Weather_Conditions  Road_Surface_Conditions  \\\n",
       "Accident_Index                                                                  \n",
       "200501BS00001                  1                   2                        2   \n",
       "200501BS00003                  4                   1                        1   \n",
       "200501BS00004                  1                   1                        1   \n",
       "200501BS00006                  1                   2                        2   \n",
       "200501BS00007                  4                   1                        1   \n",
       "\n",
       "                Special_Conditions_at_Site  Accident_Severity  \n",
       "Accident_Index                                                 \n",
       "200501BS00001                            0                  2  \n",
       "200501BS00003                            0                  3  \n",
       "200501BS00004                            0                  3  \n",
       "200501BS00006                            6                  3  \n",
       "200501BS00007                            0                  3  "
      ]
     },
     "execution_count": 5,
     "metadata": {},
     "output_type": "execute_result"
    }
   ],
   "source": [
    "# The dataframe includes variables for further analysis. \n",
    "df2 = df[['Vehicle_Manoeuvre', 'Junction_Location', 'Day_of_Week', 'Road_Type', 'Speed_limit', 'Junction_Detail', 'Junction_Control', 'Light_Conditions', 'Weather_Conditions', 'Road_Surface_Conditions', 'Special_Conditions_at_Site', 'Accident_Severity']]\n",
    "df2.head()"
   ]
  },
  {
   "cell_type": "code",
   "execution_count": 6,
   "metadata": {},
   "outputs": [
    {
     "data": {
      "text/plain": [
       "<Figure size 432x288 with 0 Axes>"
      ]
     },
     "metadata": {},
     "output_type": "display_data"
    },
    {
     "data": {
      "image/png": "[encoded data removed]",
      "text/plain": [
       "<Figure size 1440x1440 with 12 Axes>"
      ]
     },
     "metadata": {
      "needs_background": "light"
     },
     "output_type": "display_data"
    }
   ],
   "source": [
    "plt.figure()\n",
    "df2.hist(figsize=(20,20));"
   ]
  },
  {
   "cell_type": "code",
   "execution_count": null,
   "metadata": {},
   "outputs": [],
   "source": []
  }
 ],
 "metadata": {
  "kernelspec": {
   "display_name": "Python 3",
   "language": "python",
   "name": "python3"
  },
  "language_info": {
   "codemirror_mode": {
    "name": "ipython",
    "version": 3
   },
   "file_extension": ".py",
   "mimetype": "text/x-python",
   "name": "python",
   "nbconvert_exporter": "python",
   "pygments_lexer": "ipython3",
   "version": "3.6.3"
  }
 },
 "nbformat": 4,
 "nbformat_minor": 4
}
